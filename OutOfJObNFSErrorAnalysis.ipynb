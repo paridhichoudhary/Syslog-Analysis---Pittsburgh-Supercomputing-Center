{
 "cells": [
  {
   "cell_type": "code",
   "execution_count": 2,
   "metadata": {},
   "outputs": [],
   "source": [
    "import pandas as pd\n",
    "import numpy as np\n",
    "import os, re, datetime\n"
   ]
  },
  {
   "cell_type": "code",
   "execution_count": 47,
   "metadata": {},
   "outputs": [],
   "source": [
    "df = pd.read_csv(\"outOfJob.csv\")"
   ]
  },
  {
   "cell_type": "code",
   "execution_count": 48,
   "metadata": {},
   "outputs": [],
   "source": [
    "origin = '/pylon5/sy5fp1p/ehanna/logs/hosts/'"
   ]
  },
  {
   "cell_type": "code",
   "execution_count": 49,
   "metadata": {},
   "outputs": [],
   "source": [
    "pattern = re.compile('(\\d+-\\d+-\\d+)T(\\d+:\\d+:\\d+)-(\\d+:\\d+)\\s(.*?)\\.pvt.*(-\\s)+(.*)')"
   ]
  },
  {
   "cell_type": "code",
   "execution_count": 50,
   "metadata": {},
   "outputs": [],
   "source": [
    "df = df.set_index('Unnamed: 0')\n",
    "df.index.name = 'Index'"
   ]
  },
  {
   "cell_type": "markdown",
   "metadata": {},
   "source": [
    "#### Out of Job Error analysis was important as the node was crashing when it was not even running a job on it. The reason for this being a cascading effect from other nodes which are all connected through same connection to the server"
   ]
  },
  {
   "cell_type": "code",
   "execution_count": 55,
   "metadata": {},
   "outputs": [],
   "source": [
    "def outOfJobErrorText(df):\n",
    "    corpus = []\n",
    "    count = 0\n",
    "    for i in range(len(df)):\n",
    "        print(i)\n",
    "        for column in df.columns:\n",
    "            if df.loc[df.index[i],column]>0:\n",
    "                date = df.index[i].split('_')[0]\n",
    "                timeString = df.index[i].split('_')[1]\n",
    "                time = datetime.datetime.strptime(timeString,'%H:%M:%S')\n",
    "                timeToStartSeconds = (int(time.hour)*3600+int(time.minute)*60+int(time.second))-(1*60)\n",
    "    #             print(timeToStartSeconds)\n",
    "                timeToStart = str(datetime.timedelta(seconds=timeToStartSeconds))\n",
    "                fileName = origin +column+'.pvt.bridges.psc.edu/'+date+'-'+column+'.pvt.bridges.psc.edu.log'\n",
    "                with open(fileName) as file:\n",
    "                    fileCorpus = ''\n",
    "                    for line in file:\n",
    "                        if 'not responding' not in line and 'nfs: server' not in line:\n",
    "                            match = re.search(pattern,line)\n",
    "                            if match is not None:\n",
    "                                time = match.group(2)\n",
    "                                if time>timeToStart:\n",
    "                                    text = match.group(6)\n",
    "                                    fileCorpus+=text+'\\n'\n",
    "                                elif time>timeString:\n",
    "                                    break\n",
    "                    corpus.append(fileCorpus)\n",
    "    return corpus"
   ]
  },
  {
   "cell_type": "code",
   "execution_count": 1,
   "metadata": {},
   "outputs": [],
   "source": [
    "corpus = outOfJobErrorText(df)"
   ]
  },
  {
   "cell_type": "code",
   "execution_count": 59,
   "metadata": {},
   "outputs": [],
   "source": [
    "allText = ''\n",
    "for i in corpus:\n",
    "    if len(i)>0:\n",
    "        allText+=i+'\\n'\n",
    "file = open(\"OutOfJobPredecessors.txt\",\"w\")\n",
    "file.write(allText)\n",
    "file.close()"
   ]
  },
  {
   "cell_type": "code",
   "execution_count": 4,
   "metadata": {},
   "outputs": [],
   "source": [
    "textUniquePattern = re.compile('[a-zA-Z0-9\\.\\:]*[\\d]+[a-zA-Z0-9\\.\\:]*')\n",
    "testPattern = re.compile('\\d+.\\d+.\\d+.\\d+')"
   ]
  },
  {
   "cell_type": "code",
   "execution_count": 5,
   "metadata": {},
   "outputs": [],
   "source": [
    "uniqueTexts = []\n",
    "textFrequencies = []\n",
    "with open(\"OutOfJobPredecessors.txt\") as file:\n",
    "    for line in file:\n",
    "        line = line.strip('\\n')\n",
    "        line = re.sub(textUniquePattern,\"\",line)\n",
    "        if line not in uniqueTexts:\n",
    "            uniqueTexts.append(line)\n",
    "            textFrequencies.append(1)\n",
    "        else:\n",
    "            textFrequencies[uniqueTexts.index(line)]+=1"
   ]
  },
  {
   "cell_type": "code",
   "execution_count": 10,
   "metadata": {},
   "outputs": [],
   "source": [
    "allTexts = []\n",
    "for i in range(len(uniqueTexts)):\n",
    "    allTexts.append([uniqueTexts[i],textFrequencies[i]])"
   ]
  },
  {
   "cell_type": "code",
   "execution_count": 15,
   "metadata": {},
   "outputs": [],
   "source": [
    "allTexts = sorted(allTexts,key=lambda x: x[1],reverse=True)"
   ]
  },
  {
   "cell_type": "code",
   "execution_count": 17,
   "metadata": {},
   "outputs": [],
   "source": [
    "text = ''\n",
    "for i in range(len(allTexts)):\n",
    "    text+= allTexts[i][0]+' '+str(allTexts[i][1])+'\\n'\n",
    "file = open(\"OutOfJobuniquePred.txt\",\"w\")\n",
    "file.write(text)\n",
    "file.close()"
   ]
  }
 ],
 "metadata": {
  "kernelspec": {
   "display_name": "Python 3",
   "language": "python",
   "name": "python3"
  },
  "language_info": {
   "codemirror_mode": {
    "name": "ipython",
    "version": 3
   },
   "file_extension": ".py",
   "mimetype": "text/x-python",
   "name": "python",
   "nbconvert_exporter": "python",
   "pygments_lexer": "ipython3",
   "version": "3.7.4"
  }
 },
 "nbformat": 4,
 "nbformat_minor": 2
}

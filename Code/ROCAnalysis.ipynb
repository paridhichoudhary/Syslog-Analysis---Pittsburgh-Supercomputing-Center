{
 "cells": [
  {
   "cell_type": "code",
   "execution_count": 2,
   "metadata": {},
   "outputs": [],
   "source": [
    "import pandas as pd\n",
    "import numpy as np\n",
    "import csv,re,os\n",
    "import datetime as dt\n",
    "from datetime import datetime\n",
    "from sklearn.linear_model import LogisticRegression\n",
    "from sklearn.neighbors import KNeighborsClassifier\n",
    "from sklearn.naive_bayes import GaussianNB\n",
    "from sklearn.svm import SVC\n",
    "from sklearn.feature_extraction.text import CountVectorizer\n",
    "from sklearn.model_selection import KFold\n",
    "from sklearn.metrics import confusion_matrix\n",
    "import random\n",
    "from sklearn.metrics import roc_curve, auc\n",
    "from sklearn.ensemble import RandomForestClassifier\n",
    "import matplotlib.pyplot as plt\n",
    "%matplotlib inline\n"
   ]
  },
  {
   "cell_type": "code",
   "execution_count": 3,
   "metadata": {},
   "outputs": [],
   "source": [
    "origin = '/pylon5/sy5fp1p/ehanna/logs/hosts/'"
   ]
  },
  {
   "cell_type": "code",
   "execution_count": 4,
   "metadata": {},
   "outputs": [],
   "source": [
    "pattern = re.compile('(\\d+-\\d+-\\d+)T(\\d+:\\d+:\\d+)-(\\d+:\\d+)\\s(.*?)\\.pvt')\n",
    "timePattern = re.compile('.*T(\\d+:\\d+:\\d+)-\\d+:\\d+\\s.*\\.pvt.*')\n",
    "jobidpattern = re.compile('JID:(\\d+).*prolog started')"
   ]
  },
  {
   "cell_type": "code",
   "execution_count": 5,
   "metadata": {},
   "outputs": [],
   "source": [
    "# date: Date for which corpus has to be made\n",
    "# node: Node for which corpus has to be made\n",
    "# size: Size of the sliding window. How many minutes should it study?\n",
    "# slide: Shift in the sliding window\n",
    "# check: Number of seconds after the current time stamp for which to check if an nfs error occured\n",
    "def makeCorpus(date,node,size,slide,check):\n",
    "    direc = node +'.pvt.bridges.psc.edu'\n",
    "    fileName = date+'-'+direc+'.log'\n",
    "    with open(origin+direc+'/'+fileName) as file:\n",
    "        windowStarters = []\n",
    "        CorrespondingCorpuses = []\n",
    "        for line in file:\n",
    "            match = re.search(timePattern,line)\n",
    "            if match is not None:\n",
    "                currentTime = match.group(1)\n",
    "                if len(windowStarters)==0:\n",
    "                    windowStarters.append(currentTime)\n",
    "                    CorrespondingCorpuses.append([line,0])\n",
    "                    indexCheckStart = -1\n",
    "                else:\n",
    "                    i = len(windowStarters)-1\n",
    "                    while i>indexCheckStart:\n",
    "                        checkTime = windowStarters[i]\n",
    "                        FMT = '%H:%M:%S'\n",
    "                        tdelta = datetime.strptime(currentTime, FMT) - datetime.strptime(checkTime, FMT)\n",
    "                        sizeTimeRep = str(dt.timedelta(seconds=size))\n",
    "                        errorTimeCheck = size+check\n",
    "                        nextWindowStartTime = str(dt.timedelta(seconds=slide))\n",
    "                        errorTimeCheckRep = str(dt.timedelta(seconds=errorTimeCheck))\n",
    "                        if i==len(windowStarters)-1 and (str(tdelta)>=errorTimeCheckRep):\n",
    "                            windowStarters.append(currentTime)\n",
    "                            if 'not responding' not in line and 'nfs: server ' not in line:\n",
    "                                CorrespondingCorpuses.append([line,0])\n",
    "                            else:\n",
    "                                CorrespondingCorpuses.append(['',0])\n",
    "                            indexCheckStart +=1\n",
    "                            break\n",
    "                        elif (str(tdelta)<=sizeTimeRep):\n",
    "                            if 'not responding' not in line and 'nfs: server ' not in line:\n",
    "                                CorrespondingCorpuses[i][0]+= ' '+line\n",
    "                                if i==len(windowStarters)-1 and (str(tdelta)>=nextWindowStartTime):\n",
    "                                    windowStarters.append(currentTime)\n",
    "                                    line = re.sub(r'\\s\\d+\\s', ' ', line)\n",
    "                                    if 'not responding' not in line and 'nfs: server ' not in line:\n",
    "                                        CorrespondingCorpuses.append([line,0])\n",
    "                                    else:\n",
    "                                        CorrespondingCorpuses.append(['',0])\n",
    "                        elif (str(tdelta)<=errorTimeCheckRep):\n",
    "                            if 'not responding' in line and 'nfs: server ' in line:\n",
    "                                CorrespondingCorpuses[i][1]=1\n",
    "                        else:\n",
    "                            indexCheckStart +=1\n",
    "                            break\n",
    "                        i=i-1\n",
    "    windowStarters = [date+'_'+i+'_'+node for i in windowStarters]\n",
    "    return (CorrespondingCorpuses,windowStarters)"
   ]
  },
  {
   "cell_type": "code",
   "execution_count": 6,
   "metadata": {},
   "outputs": [],
   "source": [
    "def corpusToBagOfWords(corpus,labels,index):\n",
    "    vectorizer = CountVectorizer()\n",
    "    X = vectorizer.fit_transform(corpus)\n",
    "    columns = vectorizer.get_feature_names()\n",
    "    resultDF = pd.DataFrame(X.toarray(),columns=columns,index = index)\n",
    "    resultDF['Label'] = labels\n",
    "    return resultDF"
   ]
  },
  {
   "cell_type": "code",
   "execution_count": 11,
   "metadata": {},
   "outputs": [],
   "source": [
    "def makeCorpusDataFrame(dateRange, nodeMinimum,nodeMaximum):\n",
    "    startDate = datetime.strptime(dateRange.split(':')[0],\"%Y-%m-%d\")\n",
    "    endDate = datetime.strptime(dateRange.split(':')[1],\"%Y-%m-%d\")\n",
    "    currentDate = startDate\n",
    "    corpusMetaData = []\n",
    "    labelsMetaData = []\n",
    "    windowStarters = []\n",
    "    startTime = datetime.now()\n",
    "    while (currentDate<endDate):\n",
    "        count=0\n",
    "        for direc in os.listdir(origin):\n",
    "            if direc.startswith('r') and direc.endswith('.pvt.bridges.psc.edu'):\n",
    "                match = re.search(r'(r\\d+).pvt.bridges.psc.edu',direc)\n",
    "                if match is not None:\n",
    "                    node = match.group(1)\n",
    "                    if int(node.strip('r'))> nodeMinimum and int(node.strip('r'))< nodeMaximum:\n",
    "                        count+=1\n",
    "                        fileName = currentDate.strftime(\"%Y-%m-%d\")+'-'+direc+'.log'\n",
    "                        if fileName in os.listdir(origin+direc+'/'):\n",
    "                            with open(origin+direc+'/'+fileName) as file:\n",
    "                                textCorpuseswithLabels = makeCorpus(currentDate.strftime(\"%Y-%m-%d\"),node,300,120,60)\n",
    "                                # textStrings = text.split('\\n')\n",
    "                                for line in textCorpuseswithLabels[0]:\n",
    "                                    corpusMetaData.append(line[0])\n",
    "                                    labelsMetaData.append(line[1])\n",
    "                                for line in textCorpuseswithLabels[1]:\n",
    "                                    windowStarters.append(line)  \n",
    "        currentDate = currentDate+dt.timedelta(days=1)\n",
    "    corpDF = pd.DataFrame({'Corpus':corpusMetaData,'Label':labelsMetaData})\n",
    "    corpDF.to_csv(\"CorpusMetaData_\"+currentDate.strftime(\"%Y-%m-%d\")+\".csv\",index=False)\n",
    "    endTime = datetime.now()\n",
    "    df = corpusToBagOfWords(corpusMetaData,labelsMetaData,windowStarters)\n",
    "    print(endTime-startTime)\n",
    "    return df"
   ]
  },
  {
   "cell_type": "code",
   "execution_count": 8,
   "metadata": {},
   "outputs": [],
   "source": [
    "# Logistic Regression\n",
    "# Assumes the last column of data is the output dimension\n",
    "def get_pred_logreg(train,test):\n",
    "    # Your implementation goes here\n",
    "    # You may leverage the linear_model module from sklearn (scikit-learn)\n",
    "    # return (predicted output, actual output)\n",
    "    n, m = train.shape  # number of rows and columns\n",
    "    X_train = train.iloc[:,:m - 1]  # get training input data\n",
    "    # print(X_train)\n",
    "    Y_train = train.iloc[:,-1]\n",
    "    X_test = test.iloc[:, :m - 1]  # get test input data\n",
    "    Y_test = test.iloc[:,- 1]  # get test input data\n",
    "    lm = LogisticRegression().fit(X_train,Y_train)\n",
    "    pred = lm.predict(X_test)\n",
    "    return pd.DataFrame({'Prediction':pred,'Observed':Y_test},columns=['Prediction','Observed'])\n"
   ]
  },
  {
   "cell_type": "code",
   "execution_count": 9,
   "metadata": {},
   "outputs": [],
   "source": [
    "#your implementation of do_cv_class goes here\n",
    "def do_cv_class(df, num_folds, model_name):\n",
    "    Y = df.iloc[:,-1]\n",
    "    kf = KFold(n_splits=num_folds,shuffle=True,random_state=2)\n",
    "    predDF = pd.DataFrame(columns=['Prediction','Observed','Fold'])\n",
    "    count = 1\n",
    "    for train_index,test_index in kf.split(df):\n",
    "        if model_name==\"logreg\":\n",
    "            modelpredDF = get_pred_logreg(df.iloc[train_index],df.iloc[test_index])\n",
    "        elif model_name==\"svm\":\n",
    "            modelpredDF = get_pred_svm(df.iloc[train_index],df.iloc[test_index])\n",
    "        elif model_name==\"nb\":\n",
    "            modelpredDF = get_pred_nb(df.iloc[train_index],df.iloc[test_index])\n",
    "        elif model_name[-2:]==\"nn\":\n",
    "            modelpredDF = get_pred_knn(df.iloc[train_index],df.iloc[test_index],int(model_name[:-2]))\n",
    "        elif model_name==\"default\":\n",
    "            modelpredDF = get_pred_default(df.iloc[train_index],df.iloc[test_index])\n",
    "        modelpredDF['Fold']=count\n",
    "        count+=1\n",
    "        predDF = predDF.append(modelpredDF)\n",
    "    return predDF"
   ]
  },
  {
   "cell_type": "markdown",
   "metadata": {},
   "source": [
    "### The code before this is just to define functions. \n",
    "The code below this will run the functions and generate dataframe which can be used to sample different number of positive and negative samples."
   ]
  },
  {
   "cell_type": "code",
   "execution_count": 12,
   "metadata": {},
   "outputs": [
    {
     "name": "stdout",
     "output_type": "stream",
     "text": [
      "0:01:20.158218\n"
     ]
    }
   ],
   "source": [
    "trainingDF = makeCorpusDataFrame(\"2018-02-04:2018-02-06\",25,66)\n",
    "columnsToKeep=[]\n",
    "for i in trainingDF.columns:\n",
    "    if any(char.isdigit() for char in i):\n",
    "        continue\n",
    "    else:\n",
    "        columnsToKeep.append(i)\n",
    "trainingDF = trainingDF.loc[:,columnsToKeep]"
   ]
  },
  {
   "cell_type": "markdown",
   "metadata": {},
   "source": [
    "After this, you just store the Indexes of positive and negative labels and randomly pick from these indexes based on number of picks required."
   ]
  },
  {
   "cell_type": "code",
   "execution_count": 17,
   "metadata": {},
   "outputs": [],
   "source": [
    "posIndexes = list(np.where(trainingDF['Label']==1)[0])\n",
    "posIndexesworeplacement = posIndexes.copy()\n",
    "negIndexes = list(np.where(trainingDF['Label']==0)[0])\n",
    "negIndexesworeplacement = negIndexes.copy()\n",
    "allSamples = len(trainingDF)\n",
    "posSamples = len(posIndexes)"
   ]
  },
  {
   "cell_type": "code",
   "execution_count": 18,
   "metadata": {},
   "outputs": [
    {
     "name": "stdout",
     "output_type": "stream",
     "text": [
      "0.9980500000000001\n"
     ]
    },
    {
     "data": {
      "image/png": "[encoded data removed]",
      "text/plain": [
       "<matplotlib.figure.Figure at 0x2b0acce35588>"
      ]
     },
     "metadata": {},
     "output_type": "display_data"
    }
   ],
   "source": [
    "negSamples = 100\n",
    "posSamples = 100\n",
    "posIndexesworeplacement = posIndexes.copy()\n",
    "negIndexesworeplacement = negIndexes.copy()\n",
    "negIndexesPicked = []\n",
    "while len(negIndexesPicked)<negSamples:\n",
    "    if len(negIndexesworeplacement)>0:\n",
    "        indexPicked = random.choice(negIndexesworeplacement)\n",
    "        negIndexesPicked.append(indexPicked)\n",
    "        negIndexesworeplacement.remove(indexPicked) \n",
    "    else:\n",
    "        negIndexesworeplacement = negIndexes.copy()\n",
    "posIndexesPicked = []\n",
    "while len(posIndexesPicked)<posSamples:\n",
    "    if len(posIndexesworeplacement)>0:\n",
    "        indexPicked = random.choice(posIndexesworeplacement)\n",
    "        posIndexesPicked.append(indexPicked)\n",
    "        posIndexesworeplacement.remove(indexPicked) \n",
    "    else:\n",
    "            posIndexesworeplacement = posIndexes.copy()\n",
    "# posIndexesPicked = posIndexes.copy()\n",
    "ratioDF = trainingDF.loc[trainingDF.index[posIndexesPicked+negIndexesPicked],:]\n",
    "lr= LogisticRegression()\n",
    "inputData = ratioDF.iloc[:,:-1]\n",
    "outputData = ratioDF.iloc[:,-1]\n",
    "lr.fit(inputData,outputData)\n",
    "preds = lr.predict_proba(inputData)[:,1]\n",
    "fpr, tpr,_=roc_curve(outputData, preds)\n",
    "roc_auc = auc(fpr, tpr)\n",
    "print(roc_auc)\n",
    "plt.figure()\n",
    "##Adding the ROC\n",
    "plt.plot(fpr, tpr, color='red',\n",
    " lw=2, label='ROC curve')\n",
    "##Random FPR and TPR\n",
    "plt.plot([0, 1], [0, 1], color='blue', lw=2, linestyle='--')\n",
    "##Title and label\n",
    "plt.xlabel('FPR')\n",
    "plt.ylabel('TPR')\n",
    "plt.title('ROC curve')\n",
    "plt.show()"
   ]
  },
  {
   "cell_type": "code",
   "execution_count": 19,
   "metadata": {},
   "outputs": [
    {
     "name": "stdout",
     "output_type": "stream",
     "text": [
      "0.9907142857142857\n"
     ]
    },
    {
     "data": {
      "image/png": "[encoded data removed]",
      "text/plain": [
       "<matplotlib.figure.Figure at 0x2b0accf406d8>"
      ]
     },
     "metadata": {},
     "output_type": "display_data"
    }
   ],
   "source": [
    "posIndexesRemaining = [i for i in posIndexes if i not in posIndexesPicked]\n",
    "negIndexesRemaining = [i for i in negIndexes if i not in negIndexesPicked]\n",
    "testDF = trainingDF.loc[trainingDF.index[posIndexesRemaining+negIndexesRemaining[:100]],:]\n",
    "preds = lr.predict_proba(testDF.iloc[:,:-1])[:,1]\n",
    "fpr, tpr,_=roc_curve(testDF.iloc[:,-1], preds)\n",
    "roc_auc = auc(fpr, tpr)\n",
    "print(roc_auc)\n",
    "plt.figure()\n",
    "##Adding the ROC\n",
    "plt.plot(fpr, tpr, color='red',\n",
    " lw=2, label='ROC curve')\n",
    "##Random FPR and TPR\n",
    "plt.plot([0, 1], [0, 1], color='blue', lw=2, linestyle='--')\n",
    "##Title and label\n",
    "plt.xlabel('FPR')\n",
    "plt.ylabel('TPR')\n",
    "plt.title('ROC curve')\n",
    "plt.show()"
   ]
  },
  {
   "cell_type": "markdown",
   "metadata": {},
   "source": [
    "### Case 1"
   ]
  },
  {
   "cell_type": "code",
   "execution_count": 20,
   "metadata": {},
   "outputs": [
    {
     "name": "stdout",
     "output_type": "stream",
     "text": [
      "0.95\n"
     ]
    }
   ],
   "source": [
    "## Train on 120 +ve and 200 -ve. Test an out of model 100-ve just to test the accuracy. Cant plot ROC curve\n",
    "negSamples = 300\n",
    "posSamples = 121\n",
    "posIndexesworeplacement = posIndexes.copy()\n",
    "negIndexesworeplacement = negIndexes.copy()\n",
    "negIndexesPicked = []\n",
    "while len(negIndexesPicked)<negSamples:\n",
    "    if len(negIndexesworeplacement)>0:\n",
    "        indexPicked = random.choice(negIndexesworeplacement)\n",
    "        negIndexesPicked.append(indexPicked)\n",
    "        negIndexesworeplacement.remove(indexPicked) \n",
    "    else:\n",
    "        negIndexesworeplacement = negIndexes.copy()\n",
    "negIndexesPickedTrain = negIndexesPicked[:200]\n",
    "negIndexesPickedTest = negIndexesPicked[200:]\n",
    "posIndexesPicked = posIndexes.copy()\n",
    "ratioDF = trainingDF.loc[trainingDF.index[posIndexesPicked+negIndexesPicked],:]\n",
    "testDF = trainingDF.loc[trainingDF.index[negIndexesPickedTest],:]\n",
    "lr= LogisticRegression()\n",
    "inputData = ratioDF.iloc[:,:-1]\n",
    "outputData = ratioDF.iloc[:,-1]\n",
    "lr.fit(inputData,outputData)\n",
    "preds = lr.predict(testDF.iloc[:,:-1])\n",
    "print(1-(sum(preds)/len(preds)))"
   ]
  },
  {
   "cell_type": "code",
   "execution_count": 29,
   "metadata": {},
   "outputs": [],
   "source": [
    "# corpMetaData = pd.read_csv(\"CorpusMetaData_2018-02-06.csv\")\n",
    "# corpMetaData[corpMetaData['Label']==1].to_csv(\"CorpusMetaDataPostiveExamples_2018-02-04.csv\",index=False)\n",
    "corpMetaData = pd.read_csv(\"CorpusMetaDataPostiveExamples_2018-02-04.csv\")\n",
    "# print(corpMetaData['Corpus'])"
   ]
  },
  {
   "cell_type": "markdown",
   "metadata": {},
   "source": [
    "#### Feature Importance Check"
   ]
  },
  {
   "cell_type": "code",
   "execution_count": 28,
   "metadata": {},
   "outputs": [],
   "source": [
    "negSamples = 300\n",
    "posSamples = 121\n",
    "posIndexesworeplacement = posIndexes.copy()\n",
    "negIndexesworeplacement = negIndexes.copy()\n",
    "negIndexesPicked = []\n",
    "while len(negIndexesPicked)<negSamples:\n",
    "    if len(negIndexesworeplacement)>0:\n",
    "        indexPicked = random.choice(negIndexesworeplacement)\n",
    "        negIndexesPicked.append(indexPicked)\n",
    "        negIndexesworeplacement.remove(indexPicked) \n",
    "    else:\n",
    "        negIndexesworeplacement = negIndexes.copy()\n",
    "negIndexesPickedTrain = negIndexesPicked[:200]\n",
    "negIndexesPickedTest = negIndexesPicked[200:]\n",
    "posIndexesPicked = posIndexes.copy()\n",
    "ratioDF = trainingDF.loc[trainingDF.index[posIndexesPicked+negIndexesPicked],:]\n",
    "inputData = ratioDF.iloc[:,:-1]\n",
    "outputData = ratioDF.iloc[:,-1]\n",
    "rf = RandomForestClassifier(n_estimators=100)\n",
    "rf.fit(inputData,outputData)\n",
    "finalDF = pd.DataFrame({'Feature Name':inputData.columns,'Feature Importance':rf.feature_importances_})\n",
    "# print(finalDF.sort_values(by='Feature Importance',ascending=False).to_string())"
   ]
  },
  {
   "cell_type": "markdown",
   "metadata": {},
   "source": [
    "### Case 2"
   ]
  },
  {
   "cell_type": "code",
   "execution_count": 22,
   "metadata": {},
   "outputs": [
    {
     "name": "stdout",
     "output_type": "stream",
     "text": [
      "0.9906557377049181\n"
     ]
    },
    {
     "data": {
      "image/png": "[encoded data removed]",
      "text/plain": [
       "<matplotlib.figure.Figure at 0x2b0accf40fd0>"
      ]
     },
     "metadata": {},
     "output_type": "display_data"
    },
    {
     "name": "stdout",
     "output_type": "stream",
     "text": [
      "0\n",
      "161\n",
      "61\n",
      "161\n"
     ]
    }
   ],
   "source": [
    "## Split the 120 +ve into 60 +ve and 60 +ve. Training on 60 +ve and 100 -ve. Test on the other 60+ve and other 100 -ve.  Plot ROC\n",
    "negSamples = 200\n",
    "posSamples = 60\n",
    "posIndexesworeplacement = posIndexes.copy()\n",
    "negIndexesworeplacement = negIndexes.copy()\n",
    "negIndexesPicked = []\n",
    "while len(negIndexesPicked)<negSamples:\n",
    "    if len(negIndexesworeplacement)>0:\n",
    "        indexPicked = random.choice(negIndexesworeplacement)\n",
    "        negIndexesPicked.append(indexPicked)\n",
    "        negIndexesworeplacement.remove(indexPicked) \n",
    "    else:\n",
    "        negIndexesworeplacement = negIndexes.copy()\n",
    "negIndexesPickedTrain = negIndexesPicked[:100]\n",
    "negIndexesPickedTest = negIndexesPicked[100:]\n",
    "posIndexesPicked = []\n",
    "while len(posIndexesPicked)<posSamples:\n",
    "    if len(posIndexesworeplacement)>0:\n",
    "        indexPicked = random.choice(posIndexesworeplacement)\n",
    "        posIndexesPicked.append(indexPicked)\n",
    "        posIndexesworeplacement.remove(indexPicked) \n",
    "    else:\n",
    "        posIndexesworeplacement = posIndexes.copy()\n",
    "posIndexesPickedTest = [i for i in posIndexes if i not in posIndexesPicked]\n",
    "ratioDF = trainingDF.loc[trainingDF.index[negIndexesPickedTrain+posIndexesPicked],:]\n",
    "testDF = trainingDF.loc[trainingDF.index[posIndexesPickedTest+negIndexesPickedTest],:]\n",
    "lr= LogisticRegression()\n",
    "inputData = ratioDF.iloc[:,:-1]\n",
    "outputData = ratioDF.iloc[:,-1]\n",
    "lr.fit(inputData,outputData)\n",
    "preds = lr.predict(testDF.iloc[:,:-1])\n",
    "outputData = testDF.iloc[:,-1]\n",
    "# print(preds,outputData)\n",
    "preds = lr.predict_proba(testDF.iloc[:,:-1])[:,1]\n",
    "fpr, tpr,_=roc_curve(outputData, preds)\n",
    "roc_auc = auc(fpr, tpr)\n",
    "print(roc_auc)\n",
    "plt.figure()\n",
    "##Adding the ROC\n",
    "plt.plot(fpr, tpr, color='red',\n",
    " lw=2, label='ROC curve')\n",
    "##Random FPR and TPR\n",
    "plt.plot([0, 1], [0, 1], color='blue', lw=2, linestyle='--')\n",
    "##Title and label\n",
    "plt.xlabel('FPR')\n",
    "plt.ylabel('TPR')\n",
    "plt.title('ROC curve')\n",
    "plt.show()\n",
    "print(len(preds[preds==1]))\n",
    "print(len(preds))\n",
    "print(len(outputData[outputData==1]))\n",
    "print(len(outputData))"
   ]
  },
  {
   "cell_type": "markdown",
   "metadata": {},
   "source": [
    "#### Feature Importance Check"
   ]
  },
  {
   "cell_type": "code",
   "execution_count": 31,
   "metadata": {},
   "outputs": [],
   "source": [
    "negSamples = 200\n",
    "posSamples = 60\n",
    "posIndexesworeplacement = posIndexes.copy()\n",
    "negIndexesworeplacement = negIndexes.copy()\n",
    "negIndexesPicked = []\n",
    "while len(negIndexesPicked)<negSamples:\n",
    "    if len(negIndexesworeplacement)>0:\n",
    "        indexPicked = random.choice(negIndexesworeplacement)\n",
    "        negIndexesPicked.append(indexPicked)\n",
    "        negIndexesworeplacement.remove(indexPicked) \n",
    "    else:\n",
    "        negIndexesworeplacement = negIndexes.copy()\n",
    "negIndexesPickedTrain = negIndexesPicked[:100]\n",
    "negIndexesPickedTest = negIndexesPicked[100:]\n",
    "posIndexesPicked = []\n",
    "while len(posIndexesPicked)<posSamples:\n",
    "    if len(posIndexesworeplacement)>0:\n",
    "        indexPicked = random.choice(posIndexesworeplacement)\n",
    "        posIndexesPicked.append(indexPicked)\n",
    "        posIndexesworeplacement.remove(indexPicked) \n",
    "    else:\n",
    "        posIndexesworeplacement = posIndexes.copy()\n",
    "posIndexesPickedTest = [i for i in posIndexes if i not in posIndexesPicked]\n",
    "ratioDF = trainingDF.loc[trainingDF.index[negIndexesPickedTrain+posIndexesPicked],:]\n",
    "inputData = ratioDF.iloc[:,:-1]\n",
    "outputData = ratioDF.iloc[:,-1]\n",
    "rf = RandomForestClassifier(n_estimators=100)\n",
    "rf.fit(inputData,outputData)\n",
    "finalDF = pd.DataFrame({'Feature Name':inputData.columns,'Feature Importance':rf.feature_importances_})\n",
    "# print(finalDF.sort_values(by='Feature Importance',ascending=False).to_string())"
   ]
  },
  {
   "cell_type": "markdown",
   "metadata": {},
   "source": [
    "### Case 3"
   ]
  },
  {
   "cell_type": "code",
   "execution_count": 32,
   "metadata": {},
   "outputs": [
    {
     "name": "stdout",
     "output_type": "stream",
     "text": [
      "0.9125\n"
     ]
    },
    {
     "data": {
      "image/png": "[encoded data removed]",
      "text/plain": [
       "<matplotlib.figure.Figure at 0x2b0acc8135f8>"
      ]
     },
     "metadata": {},
     "output_type": "display_data"
    },
    {
     "name": "stdout",
     "output_type": "stream",
     "text": [
      "0\n",
      "32\n",
      "12\n",
      "32\n"
     ]
    }
   ],
   "source": [
    "## Train with  120 +ve and 200 -ve. Find as many other new +ve cases as possible.  Create a balance test suite. Test on the balanced test suite.  Should be able to plot ROC\n",
    "# testNewDF = makeCorpusDataFrame(\"2018-02-07:2018-02-08\",25,66)\n",
    "columnsCurrently = [i for i in testNewDF.columns if i in columnsToKeep]     \n",
    "for i in columnsToKeep:\n",
    "    if i not in columnsCurrently:\n",
    "        testNewDF[i] = 0\n",
    "testNewDF = testNewDF.loc[:,columnsToKeep]\n",
    "negSamplesTrain = 200\n",
    "posSamplesTrain = 120\n",
    "posIndexesworeplacement = posIndexes.copy()\n",
    "negIndexesworeplacement = negIndexes.copy()\n",
    "negIndexesPicked = []\n",
    "while len(negIndexesPicked)<negSamples:\n",
    "    if len(negIndexesworeplacement)>0:\n",
    "        indexPicked = random.choice(negIndexesworeplacement)\n",
    "        negIndexesPicked.append(indexPicked)\n",
    "        negIndexesworeplacement.remove(indexPicked) \n",
    "    else:\n",
    "        negIndexesworeplacement = negIndexes.copy()\n",
    "posIndexesPicked = posIndexes.copy()\n",
    "trainDF = trainingDF.loc[trainingDF.index[posIndexesPicked+negIndexesPicked],:]\n",
    "negSamplesTest = 20\n",
    "posSamplesTest = 12\n",
    "posIndexes = list(np.where(testNewDF['Label']==1)[0])\n",
    "posIndexesworeplacement = posIndexes.copy()\n",
    "negIndexes = list(np.where(testNewDF['Label']==0)[0])\n",
    "negIndexesworeplacement = negIndexes.copy()\n",
    "negIndexesPickedTest = []\n",
    "while len(negIndexesPickedTest)<negSamplesTest:\n",
    "    if len(negIndexesworeplacement)>0:\n",
    "        indexPicked = random.choice(negIndexesworeplacement)\n",
    "        negIndexesPickedTest.append(indexPicked)\n",
    "        negIndexesworeplacement.remove(indexPicked) \n",
    "    else:\n",
    "        negIndexesworeplacement = negIndexes.copy()\n",
    "posIndexesPickedTest = []\n",
    "while len(posIndexesPickedTest)<posSamplesTest:\n",
    "    if len(posIndexesworeplacement)>0:\n",
    "        indexPicked = random.choice(posIndexesworeplacement)\n",
    "        posIndexesPickedTest.append(indexPicked)\n",
    "        posIndexesworeplacement.remove(indexPicked) \n",
    "    else:\n",
    "        posIndexesworeplacement = posIndexes.copy()\n",
    "testDF = testNewDF.loc[testNewDF.index[posIndexesPickedTest+negIndexesPickedTest],:]\n",
    "lr= LogisticRegression()\n",
    "inputData = trainDF.iloc[:,:-1]\n",
    "outputData = trainDF.iloc[:,-1]\n",
    "lr.fit(inputData,outputData)\n",
    "# preds = lr.predict(testDF.iloc[:,:-1])\n",
    "outputData = testDF.iloc[:,-1]\n",
    "# print(preds,outputData)\n",
    "preds = lr.predict_proba(testDF.iloc[:,:-1])[:,1]\n",
    "fpr, tpr,_=roc_curve(outputData, preds)\n",
    "roc_auc = auc(fpr, tpr)\n",
    "print(roc_auc)\n",
    "plt.figure()\n",
    "##Adding the ROC\n",
    "plt.plot(fpr, tpr, color='red',\n",
    " lw=2, label='ROC curve')\n",
    "##Random FPR and TPR\n",
    "plt.plot([0, 1], [0, 1], color='blue', lw=2, linestyle='--')\n",
    "##Title and label\n",
    "plt.xlabel('FPR')\n",
    "plt.ylabel('TPR')\n",
    "plt.title('ROC curve')\n",
    "plt.show()\n",
    "print(len(preds[preds==1]))\n",
    "print(len(preds))\n",
    "print(len(outputData[outputData==1]))\n",
    "print(len(outputData))"
   ]
  },
  {
   "cell_type": "code",
   "execution_count": 43,
   "metadata": {},
   "outputs": [],
   "source": [
    "corpMetaData = pd.read_csv(\"CorpusMetaData_2018-02-08.csv\")\n",
    "corpMetaData[corpMetaData['Label']==1].to_csv(\"CorpusMetaDataPostiveExamples_2018-02-07_25-66.csv\",index=False)"
   ]
  },
  {
   "cell_type": "markdown",
   "metadata": {},
   "source": [
    "#### Feature Importance Check"
   ]
  },
  {
   "cell_type": "code",
   "execution_count": 33,
   "metadata": {},
   "outputs": [],
   "source": [
    "negSamplesTrain = 200\n",
    "posSamplesTrain = 120\n",
    "posIndexesworeplacement = posIndexes.copy()\n",
    "negIndexesworeplacement = negIndexes.copy()\n",
    "negIndexesPicked = []\n",
    "while len(negIndexesPicked)<negSamples:\n",
    "    if len(negIndexesworeplacement)>0:\n",
    "        indexPicked = random.choice(negIndexesworeplacement)\n",
    "        negIndexesPicked.append(indexPicked)\n",
    "        negIndexesworeplacement.remove(indexPicked) \n",
    "    else:\n",
    "        negIndexesworeplacement = negIndexes.copy()\n",
    "posIndexesPicked = posIndexes.copy()\n",
    "trainDF = trainingDF.loc[trainingDF.index[posIndexesPicked+negIndexesPicked],:]\n",
    "inputData = trainDF.iloc[:,:-1]\n",
    "outputData = trainDF.iloc[:,-1]\n",
    "rf = RandomForestClassifier(n_estimators=100)\n",
    "rf.fit(inputData,outputData)\n",
    "finalDF = pd.DataFrame({'Feature Name':inputData.columns,'Feature Importance':rf.feature_importances_})\n",
    "# print(finalDF.sort_values(by='Feature Importance',ascending=False).to_string())"
   ]
  },
  {
   "cell_type": "markdown",
   "metadata": {},
   "source": [
    "### Case 4"
   ]
  },
  {
   "cell_type": "code",
   "execution_count": 36,
   "metadata": {},
   "outputs": [
    {
     "name": "stdout",
     "output_type": "stream",
     "text": [
      "0.9063653244952166\n"
     ]
    },
    {
     "data": {
      "image/png": "[encoded data removed]",
      "text/plain": [
       "<matplotlib.figure.Figure at 0x2b0acc7dac18>"
      ]
     },
     "metadata": {},
     "output_type": "display_data"
    }
   ],
   "source": [
    "## Train with  100 +ve and 100 -ve. Take all cases from a newly generated dataset. Highly unbalanced case.14000 -ve cases. 6 +ve cases Should be able to plot ROC\n",
    "# preds = lr.predict_proba(testNewDF.iloc[:,:-1])[:,1]\n",
    "fpr, tpr,_=roc_curve(testNewDF.iloc[:,-1], preds)\n",
    "roc_auc = auc(fpr, tpr)\n",
    "print(roc_auc)\n",
    "plt.figure()\n",
    "##Adding the ROC\n",
    "plt.plot(fpr, tpr, color='red',\n",
    " lw=2, label='ROC curve')\n",
    "##Random FPR and TPR\n",
    "plt.plot([0, 1], [0, 1], color='blue', lw=2, linestyle='--')\n",
    "##Title and label\n",
    "plt.xlabel('FPR')\n",
    "plt.ylabel('TPR')\n",
    "plt.title('ROC curve')\n",
    "plt.show()"
   ]
  },
  {
   "cell_type": "markdown",
   "metadata": {},
   "source": [
    "#### Case 5"
   ]
  },
  {
   "cell_type": "code",
   "execution_count": 44,
   "metadata": {},
   "outputs": [],
   "source": [
    "### Make a new Dataframe\n",
    "negSamplesTrain = 200\n",
    "posSamplesTrain = 120\n",
    "posIndexesworeplacement = posIndexes.copy()\n",
    "negIndexesworeplacement = negIndexes.copy()\n",
    "negIndexesPicked = []\n",
    "while len(negIndexesPicked)<negSamples:\n",
    "    if len(negIndexesworeplacement)>0:\n",
    "        indexPicked = random.choice(negIndexesworeplacement)\n",
    "        negIndexesPicked.append(indexPicked)\n",
    "        negIndexesworeplacement.remove(indexPicked) \n",
    "    else:\n",
    "        negIndexesworeplacement = negIndexes.copy()\n",
    "posIndexesPicked = posIndexes.copy()\n",
    "trainDF = trainingDF.loc[trainingDF.index[posIndexesPicked+negIndexesPicked],:]\n",
    "# testNewDF120 = makeCorpusDataFrame(\"2018-02-04:2018-02-06\",1,20)\n",
    "negSamplesTest = 60\n",
    "posSamplesTest = 51\n",
    "posIndexes = list(np.where(testNewDF['Label']==1)[0])\n",
    "posIndexesworeplacement = posIndexes.copy()\n",
    "negIndexes = list(np.where(testNewDF['Label']==0)[0])\n",
    "negIndexesworeplacement = negIndexes.copy()\n",
    "negIndexesPickedTest = []\n",
    "while len(negIndexesPickedTest)<negSamplesTest:\n",
    "    if len(negIndexesworeplacement)>0:\n",
    "        indexPicked = random.choice(negIndexesworeplacement)\n",
    "        negIndexesPickedTest.append(indexPicked)\n",
    "        negIndexesworeplacement.remove(indexPicked) \n",
    "    else:\n",
    "        negIndexesworeplacement = negIndexes.copy()\n",
    "posIndexesPickedTest = []\n",
    "while len(posIndexesPickedTest)<posSamplesTest:\n",
    "    if len(posIndexesworeplacement)>0:\n",
    "        indexPicked = random.choice(posIndexesworeplacement)\n",
    "        posIndexesPickedTest.append(indexPicked)\n",
    "        posIndexesworeplacement.remove(indexPicked) \n",
    "    else:\n",
    "        posIndexesworeplacement = posIndexes.copy()\n",
    "lr= LogisticRegression()\n",
    "inputData = trainDF.iloc[:,:-1]\n",
    "outputData = trainDF.iloc[:,-1]\n",
    "lr.fit(inputData,outputData)\n",
    "columnsCurrently = [i for i in testNewDF120.columns if i in columnsToKeep]     \n",
    "for i in columnsToKeep:\n",
    "    if i not in columnsCurrently:\n",
    "        testNewDF120[i] = 0\n",
    "testNewDF120 = testNewDF120.loc[:,columnsToKeep]\n",
    "preds= lr.predict(testNewDF120.iloc[:,:-1])\n",
    "# preds = lr.predict_proba(testNewDF120.iloc[:,:-1])[:,1]\n",
    "# fpr, tpr,_=roc_curve(testNewDF120.iloc[:,-1], preds)\n",
    "# roc_auc = auc(fpr, tpr)\n",
    "# print(roc_auc)\n",
    "# plt.figure()\n",
    "# ##Adding the ROC\n",
    "# plt.plot(fpr, tpr, color='red',\n",
    "#  lw=2, label='ROC curve')\n",
    "# ##Random FPR and TPR\n",
    "# plt.plot([0, 1], [0, 1], color='blue', lw=2, linestyle='--')\n",
    "# ##Title and label\n",
    "# plt.xlabel('FPR')\n",
    "# plt.ylabel('TPR')\n",
    "# plt.title('ROC curve')\n",
    "# plt.show()"
   ]
  },
  {
   "cell_type": "code",
   "execution_count": 67,
   "metadata": {},
   "outputs": [],
   "source": [
    "corpMetaData = pd.read_csv(\"CorpusMetaData_2018-02-06.csv\")\n",
    "corpMetaData[corpMetaData['Label']==1].to_csv(\"CorpusMetaDataPostiveExamples_2018-02-04_1-20.csv\",index=False)\n",
    "# corpMetaData = pd.read_csv(\"CorpusMetaDataPostiveExamples_2018-02-04_1-20.csv\")\n",
    "# print(corpMetaData['Corpus'])"
   ]
  },
  {
   "cell_type": "code",
   "execution_count": 56,
   "metadata": {},
   "outputs": [],
   "source": [
    "predLabels = np.where(preds==1)[0]"
   ]
  },
  {
   "cell_type": "code",
   "execution_count": 55,
   "metadata": {},
   "outputs": [],
   "source": [
    "obsLabels = np.where(testNewDF120.iloc[:,-1]==1)[0]"
   ]
  },
  {
   "cell_type": "code",
   "execution_count": 57,
   "metadata": {},
   "outputs": [],
   "source": [
    "findLabels=[]\n",
    "for i in obsLabels:\n",
    "    if i not in predLabels:\n",
    "        findLabels.append(i)"
   ]
  },
  {
   "cell_type": "code",
   "execution_count": 69,
   "metadata": {},
   "outputs": [],
   "source": [
    "toReadDF = corpMetaData.loc[obsLabels,:]"
   ]
  },
  {
   "cell_type": "code",
   "execution_count": 72,
   "metadata": {},
   "outputs": [],
   "source": [
    "toReadDF.to_csv(\"MissedPositiveLabels.csv\",index=False)"
   ]
  },
  {
   "cell_type": "code",
   "execution_count": 64,
   "metadata": {},
   "outputs": [
    {
     "data": {
      "text/plain": [
       "51"
      ]
     },
     "execution_count": 64,
     "metadata": {},
     "output_type": "execute_result"
    }
   ],
   "source": [
    "len(obsLabels)"
   ]
  },
  {
   "cell_type": "code",
   "execution_count": 71,
   "metadata": {},
   "outputs": [
    {
     "data": {
      "text/plain": [
       "647      1\n",
       "648      1\n",
       "677      1\n",
       "678      1\n",
       "1327     1\n",
       "1358     1\n",
       "2009     1\n",
       "2010     1\n",
       "2042     1\n",
       "2691     1\n",
       "2723     1\n",
       "2724     1\n",
       "3373     1\n",
       "3405     1\n",
       "4057     1\n",
       "4058     1\n",
       "4089     1\n",
       "4740     1\n",
       "4741     1\n",
       "4742     1\n",
       "4772     1\n",
       "4773     1\n",
       "5423     1\n",
       "5424     1\n",
       "5454     1\n",
       "6105     1\n",
       "6106     1\n",
       "6107     1\n",
       "6137     1\n",
       "6138     1\n",
       "6790     1\n",
       "6791     1\n",
       "6821     1\n",
       "6822     1\n",
       "7473     1\n",
       "7504     1\n",
       "8189     1\n",
       "8190     1\n",
       "8840     1\n",
       "8871     1\n",
       "8872     1\n",
       "9521     1\n",
       "9522     1\n",
       "10206    1\n",
       "10207    1\n",
       "10895    1\n",
       "10896    1\n",
       "10922    1\n",
       "10923    1\n",
       "11606    1\n",
       "11607    1\n",
       "Name: Label, dtype: int64"
      ]
     },
     "execution_count": 71,
     "metadata": {},
     "output_type": "execute_result"
    }
   ],
   "source": [
    "corpMetaData.loc[obsLabels,:]['Label']"
   ]
  },
  {
   "cell_type": "code",
   "execution_count": null,
   "metadata": {},
   "outputs": [],
   "source": []
  }
 ],
 "metadata": {
  "kernelspec": {
   "display_name": "Python 3",
   "language": "python",
   "name": "python3"
  },
  "language_info": {
   "codemirror_mode": {
    "name": "ipython",
    "version": 3
   },
   "file_extension": ".py",
   "mimetype": "text/x-python",
   "name": "python",
   "nbconvert_exporter": "python",
   "pygments_lexer": "ipython3",
   "version": "3.6.4"
  }
 },
 "nbformat": 4,
 "nbformat_minor": 2
}

{
 "cells": [
  {
   "cell_type": "code",
   "execution_count": 1,
   "metadata": {
    "collapsed": true
   },
   "outputs": [],
   "source": [
    "import pandas as pd\n",
    "import csv, re, os"
   ]
  },
  {
   "cell_type": "code",
   "execution_count": 2,
   "metadata": {
    "collapsed": true
   },
   "outputs": [],
   "source": [
    "origin = \"./\"        "
   ]
  },
  {
   "cell_type": "code",
   "execution_count": 3,
   "metadata": {
    "collapsed": true
   },
   "outputs": [],
   "source": [
    "errorFrequencyDF = pd.DataFrame(columns = ['DateTime', 'filename', 'Tag_name', 'Error', 'timed out',\n",
    "       'fail', 'Failed', 'Stopped', 'PERM', 'PERF', 'INFO', 'TEMP', 'UNKN',\n",
    "       'PEND', 'failure', 'fault', 'Err', 'not responding'])\n",
    "for direc in os.listdir(origin):\n",
    "    if os.path.isdir(direc) and direc.endswith('hotWordsCount'):\n",
    "        for file in os.listdir(direc):\n",
    "            tempdf = pd.read_csv(origin+direc+'/'+file)\n",
    "            if 'Unnamed: 0' in tempdf.columns:\n",
    "                tempdf.drop(labels='Unnamed: 0',axis=1,inplace=True)\n",
    "            errorFrequencyDF = errorFrequencyDF.append(tempdf,ignore_index=True)\n",
    "errorFrequencyDF.to_csv(\"HotWordsCount.csv\",index=False)"
   ]
  },
  {
   "cell_type": "code",
   "execution_count": 4,
   "metadata": {},
   "outputs": [],
   "source": [
    "df = pd.read_csv(\"HotWordsCount.csv\")\n",
    "# df.drop(labels='Unnamed: 0',axis=1,inplace=True)"
   ]
  },
  {
   "cell_type": "code",
   "execution_count": 5,
   "metadata": {
    "collapsed": true
   },
   "outputs": [],
   "source": [
    "df['Date'] = df['DateTime'].apply(lambda r: r.split('T')[0])\n",
    "df['Time'] = df['DateTime'].apply(lambda r: r.split('T')[1])"
   ]
  },
  {
   "cell_type": "code",
   "execution_count": 6,
   "metadata": {},
   "outputs": [
    {
     "name": "stdout",
     "output_type": "stream",
     "text": [
      "         Date            Time  Year Month filename    Tag_name  Error  \\\n",
      "0  2017-07-01  23:59:55-04:00  2017    07     r012     systemd      0   \n",
      "1  2017-07-01  23:59:55-04:00  2017    07     r012       CROND      0   \n",
      "2  2017-07-01  23:59:55-04:00  2017    07     r012  run-parts(      0   \n",
      "3  2017-07-01  23:59:55-04:00  2017    07     r012     anacron      0   \n",
      "4  2017-07-01  23:59:55-04:00  2017    07     r012        sshd      0   \n",
      "\n",
      "   timed out  fail  Failed       ...        PERM  PERF  INFO  TEMP  UNKN  \\\n",
      "0          0     0       0       ...          96     0     0     2     0   \n",
      "1          0     0       0       ...           0     0     0     0     0   \n",
      "2          0     0       0       ...           0     0     0     0     0   \n",
      "3          0     0       0       ...           0     0     0     0     0   \n",
      "4          0     0       0       ...           0     0     0     0     0   \n",
      "\n",
      "   PEND  failure  fault  Err  not responding  \n",
      "0     0        0      0    0               0  \n",
      "1     0        0      0    0               0  \n",
      "2     0        0      0    0               0  \n",
      "3     0        0      0    0               0  \n",
      "4     0        0      0    0               0  \n",
      "\n",
      "[5 rows x 21 columns]\n"
     ]
    }
   ],
   "source": [
    "# print(df.columns)\n",
    "df['Month'] = df['Date'].apply(lambda r: r.split('-')[1])\n",
    "df['Year'] = df['Date'].apply(lambda r: r.split('-')[0])\n",
    "df = df.loc[:,['Date', 'Time','Year','Month','filename', 'Tag_name', 'Error', 'timed out', 'fail',\n",
    "       'Failed', 'Stopped', 'PERM', 'PERF', 'INFO', 'TEMP', 'UNKN', 'PEND',\n",
    "       'failure', 'fault', 'Err', 'not responding']]\n",
    "print(df.head())"
   ]
  },
  {
   "cell_type": "code",
   "execution_count": 15,
   "metadata": {},
   "outputs": [
    {
     "name": "stdout",
     "output_type": "stream",
     "text": [
      "Index(['Date', 'Time', 'Year', 'Month', 'filename', 'Tag_name', 'Error',\n",
      "       'timed out', 'fail', 'Failed', 'Stopped', 'PERM', 'PERF', 'INFO',\n",
      "       'TEMP', 'UNKN', 'PEND', 'failure', 'fault', 'Err', 'not responding'],\n",
      "      dtype='object')\n"
     ]
    }
   ],
   "source": [
    "df['YearMonth'] = df.apply(lambda r: r['Year']+'-'+r['Month'], axis=1)\n",
    "df_r = df[df['filename']>'br018']\n",
    "df_br = df[df['filename']<'r001']"
   ]
  },
  {
   "cell_type": "code",
   "execution_count": 16,
   "metadata": {},
   "outputs": [
    {
     "data": {
      "text/html": [
       "<div>\n",
       "<style>\n",
       "    .dataframe thead tr:only-child th {\n",
       "        text-align: right;\n",
       "    }\n",
       "\n",
       "    .dataframe thead th {\n",
       "        text-align: left;\n",
       "    }\n",
       "\n",
       "    .dataframe tbody tr th {\n",
       "        vertical-align: top;\n",
       "    }\n",
       "</style>\n",
       "<table border=\"1\" class=\"dataframe\">\n",
       "  <thead>\n",
       "    <tr style=\"text-align: right;\">\n",
       "      <th></th>\n",
       "      <th>Date</th>\n",
       "      <th>Time</th>\n",
       "      <th>Year</th>\n",
       "      <th>Month</th>\n",
       "      <th>filename</th>\n",
       "      <th>Tag_name</th>\n",
       "      <th>Error</th>\n",
       "      <th>timed out</th>\n",
       "      <th>fail</th>\n",
       "      <th>Failed</th>\n",
       "      <th>...</th>\n",
       "      <th>PERF</th>\n",
       "      <th>INFO</th>\n",
       "      <th>TEMP</th>\n",
       "      <th>UNKN</th>\n",
       "      <th>PEND</th>\n",
       "      <th>failure</th>\n",
       "      <th>fault</th>\n",
       "      <th>Err</th>\n",
       "      <th>not responding</th>\n",
       "      <th>YearMonth</th>\n",
       "    </tr>\n",
       "  </thead>\n",
       "  <tbody>\n",
       "    <tr>\n",
       "      <th>0</th>\n",
       "      <td>2017-07-01</td>\n",
       "      <td>23:59:55-04:00</td>\n",
       "      <td>2017</td>\n",
       "      <td>07</td>\n",
       "      <td>r012</td>\n",
       "      <td>systemd</td>\n",
       "      <td>0</td>\n",
       "      <td>0</td>\n",
       "      <td>0</td>\n",
       "      <td>0</td>\n",
       "      <td>...</td>\n",
       "      <td>0</td>\n",
       "      <td>0</td>\n",
       "      <td>2</td>\n",
       "      <td>0</td>\n",
       "      <td>0</td>\n",
       "      <td>0</td>\n",
       "      <td>0</td>\n",
       "      <td>0</td>\n",
       "      <td>0</td>\n",
       "      <td>2017-07</td>\n",
       "    </tr>\n",
       "    <tr>\n",
       "      <th>1</th>\n",
       "      <td>2017-07-01</td>\n",
       "      <td>23:59:55-04:00</td>\n",
       "      <td>2017</td>\n",
       "      <td>07</td>\n",
       "      <td>r012</td>\n",
       "      <td>CROND</td>\n",
       "      <td>0</td>\n",
       "      <td>0</td>\n",
       "      <td>0</td>\n",
       "      <td>0</td>\n",
       "      <td>...</td>\n",
       "      <td>0</td>\n",
       "      <td>0</td>\n",
       "      <td>0</td>\n",
       "      <td>0</td>\n",
       "      <td>0</td>\n",
       "      <td>0</td>\n",
       "      <td>0</td>\n",
       "      <td>0</td>\n",
       "      <td>0</td>\n",
       "      <td>2017-07</td>\n",
       "    </tr>\n",
       "    <tr>\n",
       "      <th>2</th>\n",
       "      <td>2017-07-01</td>\n",
       "      <td>23:59:55-04:00</td>\n",
       "      <td>2017</td>\n",
       "      <td>07</td>\n",
       "      <td>r012</td>\n",
       "      <td>run-parts(</td>\n",
       "      <td>0</td>\n",
       "      <td>0</td>\n",
       "      <td>0</td>\n",
       "      <td>0</td>\n",
       "      <td>...</td>\n",
       "      <td>0</td>\n",
       "      <td>0</td>\n",
       "      <td>0</td>\n",
       "      <td>0</td>\n",
       "      <td>0</td>\n",
       "      <td>0</td>\n",
       "      <td>0</td>\n",
       "      <td>0</td>\n",
       "      <td>0</td>\n",
       "      <td>2017-07</td>\n",
       "    </tr>\n",
       "    <tr>\n",
       "      <th>3</th>\n",
       "      <td>2017-07-01</td>\n",
       "      <td>23:59:55-04:00</td>\n",
       "      <td>2017</td>\n",
       "      <td>07</td>\n",
       "      <td>r012</td>\n",
       "      <td>anacron</td>\n",
       "      <td>0</td>\n",
       "      <td>0</td>\n",
       "      <td>0</td>\n",
       "      <td>0</td>\n",
       "      <td>...</td>\n",
       "      <td>0</td>\n",
       "      <td>0</td>\n",
       "      <td>0</td>\n",
       "      <td>0</td>\n",
       "      <td>0</td>\n",
       "      <td>0</td>\n",
       "      <td>0</td>\n",
       "      <td>0</td>\n",
       "      <td>0</td>\n",
       "      <td>2017-07</td>\n",
       "    </tr>\n",
       "    <tr>\n",
       "      <th>4</th>\n",
       "      <td>2017-07-01</td>\n",
       "      <td>23:59:55-04:00</td>\n",
       "      <td>2017</td>\n",
       "      <td>07</td>\n",
       "      <td>r012</td>\n",
       "      <td>sshd</td>\n",
       "      <td>0</td>\n",
       "      <td>0</td>\n",
       "      <td>0</td>\n",
       "      <td>0</td>\n",
       "      <td>...</td>\n",
       "      <td>0</td>\n",
       "      <td>0</td>\n",
       "      <td>0</td>\n",
       "      <td>0</td>\n",
       "      <td>0</td>\n",
       "      <td>0</td>\n",
       "      <td>0</td>\n",
       "      <td>0</td>\n",
       "      <td>0</td>\n",
       "      <td>2017-07</td>\n",
       "    </tr>\n",
       "  </tbody>\n",
       "</table>\n",
       "<p>5 rows × 22 columns</p>\n",
       "</div>"
      ],
      "text/plain": [
       "         Date            Time  Year Month filename    Tag_name  Error  \\\n",
       "0  2017-07-01  23:59:55-04:00  2017    07     r012     systemd      0   \n",
       "1  2017-07-01  23:59:55-04:00  2017    07     r012       CROND      0   \n",
       "2  2017-07-01  23:59:55-04:00  2017    07     r012  run-parts(      0   \n",
       "3  2017-07-01  23:59:55-04:00  2017    07     r012     anacron      0   \n",
       "4  2017-07-01  23:59:55-04:00  2017    07     r012        sshd      0   \n",
       "\n",
       "   timed out  fail  Failed    ...      PERF  INFO  TEMP  UNKN  PEND  failure  \\\n",
       "0          0     0       0    ...         0     0     2     0     0        0   \n",
       "1          0     0       0    ...         0     0     0     0     0        0   \n",
       "2          0     0       0    ...         0     0     0     0     0        0   \n",
       "3          0     0       0    ...         0     0     0     0     0        0   \n",
       "4          0     0       0    ...         0     0     0     0     0        0   \n",
       "\n",
       "   fault  Err  not responding  YearMonth  \n",
       "0      0    0               0    2017-07  \n",
       "1      0    0               0    2017-07  \n",
       "2      0    0               0    2017-07  \n",
       "3      0    0               0    2017-07  \n",
       "4      0    0               0    2017-07  \n",
       "\n",
       "[5 rows x 22 columns]"
      ]
     },
     "execution_count": 16,
     "metadata": {},
     "output_type": "execute_result"
    }
   ],
   "source": [
    "df.head()"
   ]
  },
  {
   "cell_type": "code",
   "execution_count": 17,
   "metadata": {},
   "outputs": [
    {
     "name": "stdout",
     "output_type": "stream",
     "text": [
      "<pandas.core.groupby.DataFrameGroupBy object at 0x2b452d6154a8>\n"
     ]
    }
   ],
   "source": [
    "groups = df_r.groupby(by=['YearMonth','Tag_name'])\n",
    "print(groups)"
   ]
  },
  {
   "cell_type": "code",
   "execution_count": 18,
   "metadata": {
    "collapsed": true
   },
   "outputs": [],
   "source": [
    "meanDF = groups.mean().reset_index()"
   ]
  },
  {
   "cell_type": "code",
   "execution_count": 22,
   "metadata": {},
   "outputs": [],
   "source": [
    "months = pd.unique(meanDF['YearMonth'])"
   ]
  },
  {
   "cell_type": "code",
   "execution_count": 25,
   "metadata": {},
   "outputs": [
    {
     "name": "stderr",
     "output_type": "stream",
     "text": [
      "/opt/packages/anaconda3.5/lib/python3.6/site-packages/ipykernel_launcher.py:9: SettingWithCopyWarning: \n",
      "A value is trying to be set on a copy of a slice from a DataFrame.\n",
      "Try using .loc[row_indexer,col_indexer] = value instead\n",
      "\n",
      "See the caveats in the documentation: http://pandas.pydata.org/pandas-docs/stable/indexing.html#indexing-view-versus-copy\n",
      "  if __name__ == '__main__':\n"
     ]
    },
    {
     "name": "stdout",
     "output_type": "stream",
     "text": [
      "2017-08\n",
      "2017-10\n",
      "2017-11\n",
      "2018-02\n",
      "2018-03\n",
      "['2017-08 automount', '2017-08 crond', '2017-08 kernel', '2017-08 nslcd', '2017-08 puppet-agent', '2017-08 sendmail', '2017-08 slurmd-epilog', '2017-08 slurmd-prolog', '2017-08 systemd', '2017-10 automount', '2017-10 crond', '2017-10 kernel', '2017-10 ldconfig', '2017-10 logger', '2017-10 network', '2017-10 nhc', '2017-10 nslcd', '2017-10 puppet-agent', '2017-10 root', '2017-10 slurmd-epilog', '2017-10 slurmd-prolog', '2017-10 sshd', '2017-10 sudo', '2017-10 systemd', '2017-11 crond', '2017-11 kernel', '2017-11 nslcd', '2017-11 puppet-agent', '2017-11 root', '2017-11 slurmd-epilog', '2017-11 slurmd-prolog', '2017-11 systemd', '2018-02 avahi-daemon', '2018-02 crond', '2018-02 journal', '2018-02 kernel', '2018-02 ldconfig', '2018-02 network', '2018-02 nhc', '2018-02 nslcd', '2018-02 opa-init-kernel', '2018-02 pam_slurm', '2018-02 puppet', '2018-02 puppet-agent', '2018-02 root', '2018-02 slurmd-epilog', '2018-02 slurmd-prolog', '2018-02 systemd', '2018-02 vasp_std', '2018-02 yum', '2018-03 crond', '2018-03 kernel', '2018-03 nslcd', '2018-03 puppet-agent', '2018-03 root', '2018-03 slurmd-epilog', '2018-03 slurmd-prolog', '2018-03 systemd']\n"
     ]
    }
   ],
   "source": [
    "anomalyMonth = []\n",
    "count = 1\n",
    "for month in months:\n",
    "    compareDF = meanDF[meanDF['YearMonth']<month]\n",
    "    if len(compareDF)>0:\n",
    "        tag_avg_values = compareDF.groupby(['Tag_name']).mean().reset_index()\n",
    "        tag_avg_values['sumCompare'] = tag_avg_values.sum(axis=1)\n",
    "        monthDF = meanDF[meanDF['YearMonth']==month]\n",
    "        monthDF['sumMonth'] = monthDF.sum(axis=1)\n",
    "        resultDF = pd.merge(tag_avg_values.loc[:,['Tag_name','sumCompare']],monthDF.loc[:,['Tag_name','sumMonth']],on=['Tag_name'],how='outer')\n",
    "        resultDF.to_csv(\"Compare \"+str(count)+\".csv\")\n",
    "        count+=1\n",
    "        print(month)\n",
    "        for row in resultDF['Tag_name']:\n",
    "            tagDF = resultDF[resultDF['Tag_name']==row]\n",
    "            if tagDF['sumCompare'].values[0] and tagDF['sumMonth'].values[0]:\n",
    "                if abs(tagDF['sumCompare'].values[0] - tagDF['sumMonth'].values[0])>0.1:\n",
    "                    anomalyMonth.append(str(month)+' '+str(row))\n",
    "print(anomalyMonth)\n",
    "                \n",
    "    "
   ]
  },
  {
   "cell_type": "code",
   "execution_count": null,
   "metadata": {
    "collapsed": true
   },
   "outputs": [],
   "source": []
  }
 ],
 "metadata": {
  "kernelspec": {
   "display_name": "Python 3",
   "language": "python",
   "name": "python3"
  },
  "language_info": {
   "codemirror_mode": {
    "name": "ipython",
    "version": 3
   },
   "file_extension": ".py",
   "mimetype": "text/x-python",
   "name": "python",
   "nbconvert_exporter": "python",
   "pygments_lexer": "ipython3",
   "version": "3.6.4"
  }
 },
 "nbformat": 4,
 "nbformat_minor": 2
}

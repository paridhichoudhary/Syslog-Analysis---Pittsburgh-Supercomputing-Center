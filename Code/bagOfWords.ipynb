{
 "cells": [
  {
   "cell_type": "code",
   "execution_count": 1,
   "metadata": {},
   "outputs": [],
   "source": [
    "import pandas as pd\n",
    "import numpy as np\n",
    "import csv,re,os\n",
    "import datetime as dt\n",
    "from datetime import datetime\n",
    "from sklearn.linear_model import LogisticRegression\n",
    "from sklearn.neighbors import KNeighborsClassifier\n",
    "from sklearn.naive_bayes import GaussianNB\n",
    "from sklearn.svm import SVC\n",
    "from sklearn.feature_extraction.text import CountVectorizer\n",
    "from sklearn.model_selection import KFold\n",
    "from sklearn.metrics import confusion_matrix\n",
    "import random"
   ]
  },
  {
   "cell_type": "code",
   "execution_count": 2,
   "metadata": {},
   "outputs": [],
   "source": [
    "origin = '/pylon5/sy5fp1p/ehanna/logs/hosts/'"
   ]
  },
  {
   "cell_type": "code",
   "execution_count": 3,
   "metadata": {},
   "outputs": [],
   "source": [
    "pattern = re.compile('(\\d+-\\d+-\\d+)T(\\d+:\\d+:\\d+)-(\\d+:\\d+)\\s(.*?)\\.pvt')\n",
    "timePattern = re.compile('.*T(\\d+:\\d+:\\d+)-\\d+:\\d+\\s.*\\.pvt.*')\n",
    "jobidpattern = re.compile('JID:(\\d+).*prolog started')"
   ]
  },
  {
   "cell_type": "code",
   "execution_count": 4,
   "metadata": {},
   "outputs": [],
   "source": [
    "# date: Date for which corpus has to be made\n",
    "# node: Node for which corpus has to be made\n",
    "# size: Size of the sliding window. How many minutes should it study?\n",
    "# slide: Shift in the sliding window\n",
    "# check: Number of seconds after the current time stamp for which to check if an nfs error occured\n",
    "def makeCorpus(date,node,size,slide,check):\n",
    "    direc = node +'.pvt.bridges.psc.edu'\n",
    "    fileName = date+'-'+direc+'.log'\n",
    "    with open(origin+direc+'/'+fileName) as file:\n",
    "        windowStarters = []\n",
    "        CorrespondingCorpuses = []\n",
    "        for line in file:\n",
    "            match = re.search(timePattern,line)\n",
    "            if match is not None:\n",
    "                currentTime = match.group(1)\n",
    "                if len(windowStarters)==0:\n",
    "                    windowStarters.append(currentTime)\n",
    "                    CorrespondingCorpuses.append([line,0])\n",
    "                    indexCheckStart = -1\n",
    "                else:\n",
    "                    i = len(windowStarters)-1\n",
    "                    while i>indexCheckStart:\n",
    "                        checkTime = windowStarters[i]\n",
    "                        FMT = '%H:%M:%S'\n",
    "                        tdelta = datetime.strptime(currentTime, FMT) - datetime.strptime(checkTime, FMT)\n",
    "                        sizeTimeRep = str(dt.timedelta(seconds=size))\n",
    "                        errorTimeCheck = size+check\n",
    "                        nextWindowStartTime = str(dt.timedelta(seconds=slide))\n",
    "                        errorTimeCheckRep = str(dt.timedelta(seconds=errorTimeCheck))\n",
    "                        if i==len(windowStarters)-1 and (str(tdelta)>=errorTimeCheckRep):\n",
    "                            windowStarters.append(currentTime)\n",
    "                            if 'not responding' not in line and 'nfs: server ' not in line:\n",
    "                                CorrespondingCorpuses.append([line,0])\n",
    "                            else:\n",
    "                                CorrespondingCorpuses.append(['',0])\n",
    "                            indexCheckStart +=1\n",
    "                            break\n",
    "                        elif (str(tdelta)<=sizeTimeRep):\n",
    "                            if 'not responding' not in line and 'nfs: server ' not in line:\n",
    "                                CorrespondingCorpuses[i][0]+= ' '+line\n",
    "                                if i==len(windowStarters)-1 and (str(tdelta)>=nextWindowStartTime):\n",
    "                                    windowStarters.append(currentTime)\n",
    "                                    line = re.sub(r'\\s\\d+\\s', ' ', line)\n",
    "                                    if 'not responding' not in line and 'nfs: server ' not in line:\n",
    "                                        CorrespondingCorpuses.append([line,0])\n",
    "                                    else:\n",
    "                                        CorrespondingCorpuses.append(['',0])\n",
    "                        elif (str(tdelta)<=errorTimeCheckRep):\n",
    "                            if 'not responding' in line and 'nfs: server ' in line:\n",
    "                                CorrespondingCorpuses[i][1]=1\n",
    "                        else:\n",
    "                            indexCheckStart +=1\n",
    "                            break\n",
    "                        i=i-1\n",
    "    windowStarters = [date+'_'+i+'_'+node for i in windowStarters]\n",
    "    return (CorrespondingCorpuses,windowStarters)"
   ]
  },
  {
   "cell_type": "code",
   "execution_count": 6,
   "metadata": {},
   "outputs": [],
   "source": [
    "textCorpuseswithLabels = makeCorpus('2018-02-04','r150',120,60,30)"
   ]
  },
  {
   "cell_type": "code",
   "execution_count": 5,
   "metadata": {},
   "outputs": [],
   "source": [
    "def corpusToBagOfWords(corpus,labels,index):\n",
    "    vectorizer = CountVectorizer()\n",
    "    X = vectorizer.fit_transform(corpus)\n",
    "    columns = vectorizer.get_feature_names()\n",
    "    resultDF = pd.DataFrame(X.toarray(),columns=columns,index = index)\n",
    "    resultDF['Label'] = labels\n",
    "    return resultDF"
   ]
  },
  {
   "cell_type": "code",
   "execution_count": 7,
   "metadata": {},
   "outputs": [
    {
     "ename": "NameError",
     "evalue": "name 'corpus' is not defined",
     "output_type": "error",
     "traceback": [
      "\u001b[0;31m---------------------------------------------------------------------------\u001b[0m",
      "\u001b[0;31mNameError\u001b[0m                                 Traceback (most recent call last)",
      "\u001b[0;32m<ipython-input-7-48148b6f62e0>\u001b[0m in \u001b[0;36m<module>\u001b[0;34m()\u001b[0m\n\u001b[0;32m----> 1\u001b[0;31m \u001b[0mdf\u001b[0m \u001b[0;34m=\u001b[0m \u001b[0mcorpusToBagOfWords\u001b[0m\u001b[0;34m(\u001b[0m\u001b[0mcorpus\u001b[0m\u001b[0;34m,\u001b[0m\u001b[0mlabels\u001b[0m\u001b[0;34m,\u001b[0m\u001b[0mtextCorpuseswithLabels\u001b[0m\u001b[0;34m[\u001b[0m\u001b[0;36m1\u001b[0m\u001b[0;34m]\u001b[0m\u001b[0;34m)\u001b[0m\u001b[0;34m\u001b[0m\u001b[0m\n\u001b[0m",
      "\u001b[0;31mNameError\u001b[0m: name 'corpus' is not defined"
     ]
    }
   ],
   "source": [
    "df = corpusToBagOfWords(corpus,labels,textCorpuseswithLabels[1])"
   ]
  },
  {
   "cell_type": "code",
   "execution_count": 8,
   "metadata": {},
   "outputs": [
    {
     "ename": "NameError",
     "evalue": "name 'df' is not defined",
     "output_type": "error",
     "traceback": [
      "\u001b[0;31m---------------------------------------------------------------------------\u001b[0m",
      "\u001b[0;31mNameError\u001b[0m                                 Traceback (most recent call last)",
      "\u001b[0;32m<ipython-input-8-c42a15b2c7cf>\u001b[0m in \u001b[0;36m<module>\u001b[0;34m()\u001b[0m\n\u001b[0;32m----> 1\u001b[0;31m \u001b[0mdf\u001b[0m\u001b[0;34m.\u001b[0m\u001b[0mhead\u001b[0m\u001b[0;34m(\u001b[0m\u001b[0;34m)\u001b[0m\u001b[0;34m\u001b[0m\u001b[0m\n\u001b[0m",
      "\u001b[0;31mNameError\u001b[0m: name 'df' is not defined"
     ]
    }
   ],
   "source": [
    "df.head()"
   ]
  },
  {
   "cell_type": "code",
   "execution_count": 9,
   "metadata": {},
   "outputs": [
    {
     "name": "stdout",
     "output_type": "stream",
     "text": [
      "<38>1 2018-02-02T23:56:00-05:00 r256.pvt.bridges.psc.edu systemd-logind - - -  New session of user monitor.\n"
     ]
    }
   ],
   "source": [
    "text = \"<38>1 2018-02-02T23:56:00-05:00 r256.pvt.bridges.psc.edu systemd-logind - - -  New session 4434 of user monitor.\"\n",
    "text = (re.sub(r'\\s\\d+\\s',' ',text))\n",
    "print(text)"
   ]
  },
  {
   "cell_type": "code",
   "execution_count": 6,
   "metadata": {},
   "outputs": [],
   "source": [
    "def makeCorpusDataFrame(dateRange, nodeMinimum,nodeMaximum):\n",
    "    startDate = datetime.strptime(dateRange.split(':')[0],\"%Y-%m-%d\")\n",
    "    endDate = datetime.strptime(dateRange.split(':')[1],\"%Y-%m-%d\")\n",
    "    currentDate = startDate\n",
    "    corpusMetaData = []\n",
    "    labelsMetaData = []\n",
    "    windowStarters = []\n",
    "    startTime = datetime.now()\n",
    "    while (currentDate<endDate):\n",
    "        count=0\n",
    "        for direc in os.listdir(origin):\n",
    "            if direc.startswith('r') and direc.endswith('.pvt.bridges.psc.edu'):\n",
    "                match = re.search(r'(r\\d+).pvt.bridges.psc.edu',direc)\n",
    "                if match is not None:\n",
    "                    node = match.group(1)\n",
    "                    if int(node.strip('r'))> nodeMinimum and int(node.strip('r'))< nodeMaximum:\n",
    "                        count+=1\n",
    "                        fileName = currentDate.strftime(\"%Y-%m-%d\")+'-'+direc+'.log'\n",
    "                        if fileName in os.listdir(origin+direc+'/'):\n",
    "                            with open(origin+direc+'/'+fileName) as file:\n",
    "                                textCorpuseswithLabels = makeCorpus(currentDate.strftime(\"%Y-%m-%d\"),node,300,120,60)\n",
    "                                # textStrings = text.split('\\n')\n",
    "                                for line in textCorpuseswithLabels[0]:\n",
    "                                    corpusMetaData.append(line[0])\n",
    "                                    labelsMetaData.append(line[1])\n",
    "                                for line in textCorpuseswithLabels[1]:\n",
    "                                    windowStarters.append(line)  \n",
    "        currentDate = currentDate+dt.timedelta(days=1)\n",
    "    endTime = datetime.now()\n",
    "    df = corpusToBagOfWords(corpusMetaData,labelsMetaData,windowStarters)\n",
    "    print(endTime-startTime)\n",
    "    return df"
   ]
  },
  {
   "cell_type": "code",
   "execution_count": 7,
   "metadata": {},
   "outputs": [],
   "source": [
    "# Logistic Regression\n",
    "# Assumes the last column of data is the output dimension\n",
    "def get_pred_logreg(train,test):\n",
    "    # Your implementation goes here\n",
    "    # You may leverage the linear_model module from sklearn (scikit-learn)\n",
    "    # return (predicted output, actual output)\n",
    "    n, m = train.shape  # number of rows and columns\n",
    "    X_train = train.iloc[:,:m - 1]  # get training input data\n",
    "    # print(X_train)\n",
    "    Y_train = train.iloc[:,-1]\n",
    "    X_test = test.iloc[:, :m - 1]  # get test input data\n",
    "    Y_test = test.iloc[:,- 1]  # get test input data\n",
    "    lm = LogisticRegression().fit(X_train,Y_train)\n",
    "    pred = lm.predict(X_test)\n",
    "    return pd.DataFrame({'Prediction':pred,'Observed':Y_test},columns=['Prediction','Observed'])\n"
   ]
  },
  {
   "cell_type": "code",
   "execution_count": 8,
   "metadata": {},
   "outputs": [],
   "source": [
    "#your implementation of do_cv_class goes here\n",
    "def do_cv_class(df, num_folds, model_name):\n",
    "    Y = df.iloc[:,-1]\n",
    "    kf = KFold(n_splits=num_folds,shuffle=True,random_state=2)\n",
    "    predDF = pd.DataFrame(columns=['Prediction','Observed','Fold'])\n",
    "    count = 1\n",
    "    for train_index,test_index in kf.split(df):\n",
    "        if model_name==\"logreg\":\n",
    "            modelpredDF = get_pred_logreg(df.iloc[train_index],df.iloc[test_index])\n",
    "        elif model_name==\"svm\":\n",
    "            modelpredDF = get_pred_svm(df.iloc[train_index],df.iloc[test_index])\n",
    "        elif model_name==\"nb\":\n",
    "            modelpredDF = get_pred_nb(df.iloc[train_index],df.iloc[test_index])\n",
    "        elif model_name[-2:]==\"nn\":\n",
    "            modelpredDF = get_pred_knn(df.iloc[train_index],df.iloc[test_index],int(model_name[:-2]))\n",
    "        elif model_name==\"default\":\n",
    "            modelpredDF = get_pred_default(df.iloc[train_index],df.iloc[test_index])\n",
    "        modelpredDF['Fold']=count\n",
    "        count+=1\n",
    "        predDF = predDF.append(modelpredDF)\n",
    "    return predDF"
   ]
  },
  {
   "cell_type": "code",
   "execution_count": 13,
   "metadata": {},
   "outputs": [],
   "source": [
    "# columnsToKeep=[]\n",
    "# for i in trainingDF.columns:\n",
    "#     if any(char.isdigit() for char in i):\n",
    "#         continue\n",
    "#     else:\n",
    "#         columnsToKeep.append(i)\n",
    "# trainingDF = trainingDF.loc[:,columnsToKeep]\n",
    "# predDF = do_cv_class(trainingDF,10,'logreg')"
   ]
  },
  {
   "cell_type": "code",
   "execution_count": 14,
   "metadata": {},
   "outputs": [],
   "source": [
    "# predDF['Accuracy'] = predDF.apply(lambda r: 1 if r['Observed']==r['Prediction'] else 0,axis=1)\n",
    "# np.sum(predDF['Accuracy'])/float(len(predDF))"
   ]
  },
  {
   "cell_type": "code",
   "execution_count": 15,
   "metadata": {},
   "outputs": [],
   "source": [
    "# print(confusion_matrix(predDF['Prediction'],predDF['Observed'],labels=[0,1]))"
   ]
  },
  {
   "cell_type": "code",
   "execution_count": 16,
   "metadata": {},
   "outputs": [],
   "source": [
    "# predDF['Prediction'] = predDF['Prediction'].astype(str).astype(int)\n",
    "# predDF['Observed'] = predDF['Observed'].astype(str).astype(int)"
   ]
  },
  {
   "cell_type": "code",
   "execution_count": 9,
   "metadata": {},
   "outputs": [],
   "source": [
    "def bagOfWordsResults(dateRange, nodeMinimum,nodeMaximum):\n",
    "    trainingDF = makeCorpusDataFrame(dateRange,nodeMinimum,nodeMaximum)\n",
    "    columnsToKeep=[]\n",
    "    for i in trainingDF.columns:\n",
    "        if any(char.isdigit() for char in i):\n",
    "            continue\n",
    "        else:\n",
    "            columnsToKeep.append(i)\n",
    "    trainingDF = trainingDF.loc[:,columnsToKeep]\n",
    "    predDF = do_cv_class(trainingDF,10,'logreg')\n",
    "    predDF['Prediction'] = predDF['Prediction'].astype(str).astype(int)\n",
    "    predDF['Observed'] = predDF['Observed'].astype(str).astype(int)\n",
    "    predDF['Accuracy'] = predDF.apply(lambda r: 1 if r['Observed']==r['Prediction'] else 0,axis=1)\n",
    "    print(np.sum(predDF['Accuracy'])/float(len(predDF)))\n",
    "    cf = confusion_matrix(predDF['Prediction'],predDF['Observed'],labels=[0,1])\n",
    "    return (cf[0][0],cf[0][1],cf[1][0],cf[1][1])"
   ]
  },
  {
   "cell_type": "code",
   "execution_count": 18,
   "metadata": {},
   "outputs": [],
   "source": [
    "AllPredDF = pd.DataFrame(columns=['Observed','Prediction'])"
   ]
  },
  {
   "cell_type": "code",
   "execution_count": 19,
   "metadata": {},
   "outputs": [],
   "source": [
    "nodes = pd.read_csv(\"nodes.csv\")"
   ]
  },
  {
   "cell_type": "code",
   "execution_count": 20,
   "metadata": {},
   "outputs": [],
   "source": [
    "nodes = nodes.loc[:,['Node Number','Date']]"
   ]
  },
  {
   "cell_type": "code",
   "execution_count": 36,
   "metadata": {},
   "outputs": [],
   "source": [
    "fpr2=[]\n",
    "tpr2=[]\n",
    "for i in range(len(answerResults)):\n",
    "    try:\n",
    "        fpr.append(answerResults[i][1])\n",
    "        tpr.append(answerResults[i][0])\n",
    "    except Exception as e:\n",
    "        continue"
   ]
  },
  {
   "cell_type": "code",
   "execution_count": 10,
   "metadata": {},
   "outputs": [
    {
     "name": "stdout",
     "output_type": "stream",
     "text": [
      "0:01:20.585316\n",
      "0.9973313810693368\n"
     ]
    }
   ],
   "source": [
    "results = bagOfWordsResults(\"2018-02-04:2018-02-06\",25,66)"
   ]
  },
  {
   "cell_type": "code",
   "execution_count": 11,
   "metadata": {},
   "outputs": [
    {
     "data": {
      "text/plain": [
       "(42209, 99, 14, 22)"
      ]
     },
     "execution_count": 11,
     "metadata": {},
     "output_type": "execute_result"
    }
   ],
   "source": [
    "results"
   ]
  },
  {
   "cell_type": "code",
   "execution_count": 37,
   "metadata": {},
   "outputs": [],
   "source": [
    "fprFinal = fpr+fpr2"
   ]
  },
  {
   "cell_type": "code",
   "execution_count": 38,
   "metadata": {},
   "outputs": [],
   "source": [
    "tprFinal = tpr+tpr2"
   ]
  },
  {
   "cell_type": "code",
   "execution_count": 10,
   "metadata": {},
   "outputs": [],
   "source": [
    "from sklearn.metrics import roc_curve, auc\n",
    "import matplotlib.pyplot as plt\n",
    "%matplotlib inline"
   ]
  },
  {
   "cell_type": "code",
   "execution_count": 93,
   "metadata": {},
   "outputs": [
    {
     "data": {
      "text/plain": [
       "[0.1640625,\n",
       " 0.21764705882352942,\n",
       " 0.27358490566037735,\n",
       " 0.2627450980392157,\n",
       " 0.2828282828282828,\n",
       " 0.35693215339233036,\n",
       " 0.3769633507853403]"
      ]
     },
     "execution_count": 93,
     "metadata": {},
     "output_type": "execute_result"
    }
   ],
   "source": [
    "tpr"
   ]
  },
  {
   "cell_type": "code",
   "execution_count": 90,
   "metadata": {},
   "outputs": [],
   "source": [
    "roc_auc = auc(fpr3, tpr3,reorder=True)"
   ]
  },
  {
   "cell_type": "code",
   "execution_count": 91,
   "metadata": {},
   "outputs": [
    {
     "data": {
      "text/plain": [
       "0.6874955466481616"
      ]
     },
     "execution_count": 91,
     "metadata": {},
     "output_type": "execute_result"
    }
   ],
   "source": [
    "roc_auc"
   ]
  },
  {
   "cell_type": "code",
   "execution_count": 92,
   "metadata": {},
   "outputs": [
    {
     "data": {
      "image/png": "[encoded data removed]",
      "text/plain": [
       "<matplotlib.figure.Figure at 0x2b6cfda1f358>"
      ]
     },
     "metadata": {},
     "output_type": "display_data"
    }
   ],
   "source": [
    "plt.figure()\n",
    "lw = 2\n",
    "plt.plot(fpr, tpr, color='darkorange',\n",
    "         lw=lw, label='ROC curve (area = %0.2f)' % roc_auc)\n",
    "plt.plot([0, 1], [0, 1], color='navy', lw=lw, linestyle='--')\n",
    "plt.xlim([0.0, 1.0])\n",
    "plt.ylim([0.0, 1.05])\n",
    "plt.xlabel('False Positive Rate')\n",
    "plt.ylabel('True Positive Rate')\n",
    "plt.title('Receiver operating characteristic example')\n",
    "plt.legend(loc=\"lower right\")\n",
    "plt.show()"
   ]
  },
  {
   "cell_type": "code",
   "execution_count": 30,
   "metadata": {},
   "outputs": [
    {
     "name": "stdout",
     "output_type": "stream",
     "text": [
      "0:01:08.981761\n"
     ]
    }
   ],
   "source": [
    "df = makeCorpusDataFrame(\"2018-02-04:2018-02-06\",25,66)"
   ]
  },
  {
   "cell_type": "code",
   "execution_count": 19,
   "metadata": {},
   "outputs": [
    {
     "name": "stdout",
     "output_type": "stream",
     "text": [
      "47316\n"
     ]
    }
   ],
   "source": [
    "print(len(df.columns))"
   ]
  },
  {
   "cell_type": "code",
   "execution_count": 21,
   "metadata": {},
   "outputs": [
    {
     "name": "stdout",
     "output_type": "stream",
     "text": [
      "796\n"
     ]
    }
   ],
   "source": [
    "print(len(columnsToKeep))"
   ]
  },
  {
   "cell_type": "code",
   "execution_count": 31,
   "metadata": {},
   "outputs": [],
   "source": [
    "columnsToKeep=[]\n",
    "for i in df.columns:\n",
    "    if any(char.isdigit() for char in i):\n",
    "        continue\n",
    "    else:\n",
    "        columnsToKeep.append(i)"
   ]
  },
  {
   "cell_type": "code",
   "execution_count": 69,
   "metadata": {},
   "outputs": [],
   "source": [
    "trainingDF = df.loc[:,columnsToKeep]"
   ]
  },
  {
   "cell_type": "code",
   "execution_count": 11,
   "metadata": {},
   "outputs": [],
   "source": [
    "def oversampling(df,ratio):\n",
    "    posDF = pd.DataFrame(columns = df.columns)\n",
    "    negDF = pd.DataFrame(columns = df.columns)\n",
    "    posIndexes = []\n",
    "    negIndexes = []\n",
    "    testDF = df.reset_index()\n",
    "    testDF.drop(labels='index',axis=1,inplace=True)\n",
    "    for i in range(len(testDF)):\n",
    "        if testDF.iloc[i,-1]== 1:\n",
    "            posIndexes.append(i)\n",
    "        else:\n",
    "            negIndexes.append(i)\n",
    "    numPositives = int(0.5*len(testDF))\n",
    "    chosenIndexes =[]\n",
    "    while len(chosenIndexes)<numPositives:\n",
    "        index1 = np.random.randint(0,len(posIndexes))\n",
    "        chosenIndexes.append(posIndexes[index1])\n",
    "    numNegatives = len(testDF)-numPositives\n",
    "    print(numNegatives)\n",
    "    while len(chosenIndexes)<(numPositives+numNegatives):\n",
    "        index1 =  np.random.randint(0,len(negIndexes))\n",
    "        chosenIndexes.append(negIndexes[index1])\n",
    "    trainingDF = testDF.loc[chosenIndexes,:]\n",
    "    trainingDF.iloc[:,-1]=trainingDF.iloc[:,-1].astype('int')\n",
    "    predDF = do_cv_class(trainingDF,10,'logreg')\n",
    "    predDF['Prediction'] = predDF['Prediction'].astype(str).astype(int)\n",
    "    predDF['Observed'] = predDF['Observed'].astype(str).astype(int)\n",
    "    predDF['Accuracy'] = predDF.apply(lambda r: 1 if r['Observed']==r['Prediction'] else 0,axis=1)\n",
    "    print(np.sum(predDF['Accuracy'])/float(len(predDF)))\n",
    "    cf = confusion_matrix(predDF['Prediction'],predDF['Observed'],labels=[0,1])\n",
    "    return (cf[0][0],cf[0][1],cf[1][0],cf[1][1])"
   ]
  },
  {
   "cell_type": "code",
   "execution_count": null,
   "metadata": {},
   "outputs": [],
   "source": [
    "print(len(df[df['Label']==0]))"
   ]
  },
  {
   "cell_type": "code",
   "execution_count": 79,
   "metadata": {},
   "outputs": [],
   "source": [
    "mainResults=[]"
   ]
  },
  {
   "cell_type": "code",
   "execution_count": 81,
   "metadata": {},
   "outputs": [
    {
     "name": "stdout",
     "output_type": "stream",
     "text": [
      "21172\n",
      "0.9761477423011524\n",
      "21172\n",
      "0.9768089930096354\n",
      "21172\n",
      "0.9778481012658228\n",
      "21172\n",
      "0.9738097487247308\n",
      "21172\n",
      "0.9759115813338372\n",
      "21172\n",
      "0.9758407330436425\n",
      "21172\n",
      "0.9756518042697903\n",
      "21172\n",
      "0.9764311354619308\n",
      "21172\n",
      "0.9784148875873796\n",
      "21172\n",
      "0.9773521632344606\n",
      "21172\n",
      "0.9770215378802192\n",
      "21172\n",
      "0.9767381447194408\n",
      "21172\n",
      "0.9772576988475344\n",
      "21172\n",
      "0.975769884753448\n",
      "21172\n",
      "0.9766436803325147\n",
      "21172\n",
      "0.9761477423011524\n",
      "21172\n",
      "0.9749669374645759\n",
      "21172\n",
      "0.9771160022671452\n",
      "21172\n",
      "0.9774230115246552\n",
      "21172\n",
      "0.9765019837521255\n",
      "21172\n",
      "0.9760060457207633\n",
      "21172\n",
      "0.9763366710750048\n",
      "21172\n",
      "0.9773049310409976\n",
      "21172\n",
      "0.975061401851502\n",
      "21172\n",
      "0.9750141696580389\n",
      "21172\n",
      "0.9760768940109579\n",
      "21172\n",
      "0.9737861326279993\n",
      "21172\n",
      "0.975769884753448\n",
      "21172\n",
      "0.9756990364632534\n",
      "21172\n",
      "0.976927073493293\n",
      "21172\n",
      "0.9770451539769507\n",
      "21172\n",
      "0.9770451539769507\n",
      "21172\n",
      "0.9774230115246552\n",
      "21172\n",
      "0.9756518042697903\n",
      "21172\n",
      "0.9766672964292462\n",
      "21172\n",
      "0.9772340827508029\n",
      "21172\n",
      "0.9746126960136029\n",
      "21172\n",
      "0.9762658227848101\n",
      "21172\n",
      "0.9768326091063669\n",
      "21172\n",
      "0.9764311354619308\n",
      "21172\n",
      "0.9767145286227092\n",
      "21172\n",
      "0.9773049310409976\n",
      "21172\n",
      "0.9773521632344606\n",
      "21172\n",
      "0.9758879652371056\n",
      "21172\n",
      "0.9770215378802192\n",
      "21172\n",
      "0.9772576988475344\n",
      "21172\n",
      "0.9764547515586623\n",
      "21172\n",
      "0.9756754203665218\n",
      "21172\n",
      "0.9745418477234082\n"
     ]
    }
   ],
   "source": [
    "for i in np.arange(0.01,0.5,0.01):\n",
    "    results = oversampling(trainingDF,0.5)\n",
    "    mainResults.append(results)"
   ]
  },
  {
   "cell_type": "code",
   "execution_count": 96,
   "metadata": {},
   "outputs": [],
   "source": [
    "fpr=[]\n",
    "tpr=[]\n",
    "for i in range(len(mainResults)):\n",
    "    try:\n",
    "        tp = mainResults[i][3]\n",
    "        fp = mainResults[i][2]\n",
    "        tn = mainResults[i][0]\n",
    "        fn = mainResults[i][1]\n",
    "        tprScalar = float(tp)/(tp+fn)\n",
    "        fprScalar = float(fp)/(fp+tn)\n",
    "        fpr.append(fprScalar)\n",
    "        tpr.append(tprScalar)\n",
    "    except Exception as e:\n",
    "#         print(e)\n",
    "        continue"
   ]
  },
  {
   "cell_type": "code",
   "execution_count": 14,
   "metadata": {},
   "outputs": [],
   "source": [
    "tp = results[3]\n",
    "fp = results[2]\n",
    "tn = results[0]\n",
    "fn = results[1]\n",
    "tprScalar = float(tp)/(tp+fn)\n",
    "fprScalar = float(fp)/(fp+tn)"
   ]
  },
  {
   "cell_type": "code",
   "execution_count": 15,
   "metadata": {},
   "outputs": [
    {
     "data": {
      "text/plain": [
       "0.18181818181818182"
      ]
     },
     "execution_count": 15,
     "metadata": {},
     "output_type": "execute_result"
    }
   ],
   "source": [
    "tprScalar"
   ]
  },
  {
   "cell_type": "code",
   "execution_count": 16,
   "metadata": {},
   "outputs": [
    {
     "data": {
      "text/plain": [
       "0.0003315728394476944"
      ]
     },
     "execution_count": 16,
     "metadata": {},
     "output_type": "execute_result"
    }
   ],
   "source": [
    "fprScalar"
   ]
  },
  {
   "cell_type": "code",
   "execution_count": 13,
   "metadata": {},
   "outputs": [
    {
     "name": "stdout",
     "output_type": "stream",
     "text": [
      "0:01:14.451841\n"
     ]
    }
   ],
   "source": [
    "trainingDF = makeCorpusDataFrame(\"2018-02-04:2018-02-06\",25,66)\n",
    "columnsToKeep=[]\n",
    "for i in trainingDF.columns:\n",
    "    if any(char.isdigit() for char in i):\n",
    "        continue\n",
    "    else:\n",
    "        columnsToKeep.append(i)\n",
    "trainingDF = trainingDF.loc[:,columnsToKeep]"
   ]
  },
  {
   "cell_type": "code",
   "execution_count": 14,
   "metadata": {},
   "outputs": [],
   "source": [
    "posIndexes = list(np.where(trainingDF['Label']==1)[0])\n",
    "posIndexesworeplacement = posIndexes.copy()"
   ]
  },
  {
   "cell_type": "code",
   "execution_count": 15,
   "metadata": {},
   "outputs": [],
   "source": [
    "negIndexes = list(np.where(trainingDF['Label']==0)[0])\n",
    "negIndexesworeplacement = negIndexes.copy()"
   ]
  },
  {
   "cell_type": "code",
   "execution_count": 16,
   "metadata": {},
   "outputs": [],
   "source": [
    "allSamples = len(trainingDF)"
   ]
  },
  {
   "cell_type": "code",
   "execution_count": 22,
   "metadata": {},
   "outputs": [],
   "source": [
    "posSamples = len(posIndexes)"
   ]
  },
  {
   "cell_type": "code",
   "execution_count": 55,
   "metadata": {},
   "outputs": [
    {
     "name": "stdout",
     "output_type": "stream",
     "text": [
      "0.00286573668379793\n"
     ]
    }
   ],
   "source": [
    "ratio = len(posIndexes)/len(negIndexes)\n",
    "print(ratio)"
   ]
  },
  {
   "cell_type": "code",
   "execution_count": 56,
   "metadata": {},
   "outputs": [
    {
     "name": "stdout",
     "output_type": "stream",
     "text": [
      "42132.28\n"
     ]
    }
   ],
   "source": [
    "ratio = 0.005\n",
    "posSamples = ratio*allSamples\n",
    "negSamples = allSamples - posSamples\n",
    "print(negSamples)"
   ]
  },
  {
   "cell_type": "code",
   "execution_count": 60,
   "metadata": {},
   "outputs": [],
   "source": [
    "negIndexesPicked = []\n",
    "while len(negIndexesPicked)<negSamples:\n",
    "    if len(negIndexesworeplacement)>0:\n",
    "        indexPicked = random.choice(negIndexesworeplacement)\n",
    "        negIndexesPicked.append(indexPicked)\n",
    "        negIndexesworeplacement.remove(indexPicked) \n",
    "    else:\n",
    "        negIndexesworeplacement = negIndexes.copy()"
   ]
  },
  {
   "cell_type": "code",
   "execution_count": 62,
   "metadata": {},
   "outputs": [],
   "source": [
    "posIndexesPicked = []\n",
    "while len(posIndexesPicked)<posSamples:\n",
    "    if len(posIndexesworeplacement)>0:\n",
    "        indexPicked = random.choice(posIndexesworeplacement)\n",
    "        posIndexesPicked.append(indexPicked)\n",
    "        posIndexesworeplacement.remove(indexPicked) \n",
    "    else:\n",
    "        posIndexesworeplacement = posIndexes.copy()"
   ]
  },
  {
   "cell_type": "code",
   "execution_count": 80,
   "metadata": {},
   "outputs": [
    {
     "name": "stdout",
     "output_type": "stream",
     "text": [
      "212\n"
     ]
    }
   ],
   "source": [
    "print(len((posIndexesPicked)))"
   ]
  },
  {
   "cell_type": "code",
   "execution_count": 72,
   "metadata": {},
   "outputs": [],
   "source": [
    "ratioDF = trainingDF.loc[trainingDF.index[posIndexesPicked+negIndexesPicked],:]"
   ]
  },
  {
   "cell_type": "code",
   "execution_count": 73,
   "metadata": {},
   "outputs": [
    {
     "name": "stdout",
     "output_type": "stream",
     "text": [
      "0.9959381272877553\n"
     ]
    }
   ],
   "source": [
    "predDF = do_cv_class(ratioDF,10,'logreg')\n",
    "predDF['Prediction'] = predDF['Prediction'].astype(str).astype(int)\n",
    "predDF['Observed'] = predDF['Observed'].astype(str).astype(int)\n",
    "predDF['Accuracy'] = predDF.apply(lambda r: 1 if r['Observed']==r['Prediction'] else 0,axis=1)\n",
    "print(np.sum(predDF['Accuracy'])/float(len(predDF)))\n",
    "cf = confusion_matrix(predDF['Prediction'],predDF['Observed'],labels=[0,1])"
   ]
  },
  {
   "cell_type": "code",
   "execution_count": 75,
   "metadata": {},
   "outputs": [],
   "source": [
    "results = (cf[0][0],cf[0][1],cf[1][0],cf[1][1])"
   ]
  },
  {
   "cell_type": "code",
   "execution_count": 76,
   "metadata": {},
   "outputs": [],
   "source": [
    "tp = results[3]\n",
    "fp = results[2]\n",
    "tn = results[0]\n",
    "fn = results[1]\n",
    "tprScalar = float(tp)/(tp+fn)\n",
    "fprScalar = float(fp)/(fp+tn)"
   ]
  },
  {
   "cell_type": "code",
   "execution_count": 77,
   "metadata": {},
   "outputs": [
    {
     "data": {
      "text/plain": [
       "0.27358490566037735"
      ]
     },
     "execution_count": 77,
     "metadata": {},
     "output_type": "execute_result"
    }
   ],
   "source": [
    "tprScalar"
   ]
  },
  {
   "cell_type": "code",
   "execution_count": 78,
   "metadata": {},
   "outputs": [
    {
     "data": {
      "text/plain": [
       "0.0004272185697671659"
      ]
     },
     "execution_count": 78,
     "metadata": {},
     "output_type": "execute_result"
    }
   ],
   "source": [
    "fprScalar"
   ]
  },
  {
   "cell_type": "code",
   "execution_count": 20,
   "metadata": {},
   "outputs": [],
   "source": [
    "def makeROC(ratio,posSamples):\n",
    "    negSamples = ratio*posSamples\n",
    "#     posIndexesworeplacement = posIndexes.copy()\n",
    "    negIndexesworeplacement = negIndexes.copy()\n",
    "    negIndexesPicked = []\n",
    "    while len(negIndexesPicked)<negSamples:\n",
    "        if len(negIndexesworeplacement)>0:\n",
    "            indexPicked = random.choice(negIndexesworeplacement)\n",
    "            negIndexesPicked.append(indexPicked)\n",
    "            negIndexesworeplacement.remove(indexPicked) \n",
    "        else:\n",
    "            negIndexesworeplacement = negIndexes.copy()\n",
    "#     posIndexesPicked = []\n",
    "#     while len(posIndexesPicked)<posSamples:\n",
    "#         if len(posIndexesworeplacement)>0:\n",
    "#             indexPicked = random.choice(posIndexesworeplacement)\n",
    "#             posIndexesPicked.append(indexPicked)\n",
    "#             posIndexesworeplacement.remove(indexPicked) \n",
    "#         else:\n",
    "#             posIndexesworeplacement = posIndexes.copy()\n",
    "    posIndexesPicked = posIndexes.copy()\n",
    "    ratioDF = trainingDF.loc[trainingDF.index[posIndexesPicked+negIndexesPicked],:]\n",
    "    predDF = do_cv_class(ratioDF,10,'logreg')\n",
    "    predDF['Prediction'] = predDF['Prediction'].astype(str).astype(int)\n",
    "    predDF['Observed'] = predDF['Observed'].astype(str).astype(int)\n",
    "    predDF['Accuracy'] = predDF.apply(lambda r: 1 if r['Observed']==r['Prediction'] else 0,axis=1)\n",
    "    print(np.sum(predDF['Accuracy'])/float(len(predDF)))\n",
    "    cf = confusion_matrix(predDF['Prediction'],predDF['Observed'],labels=[0,1])\n",
    "    results = (cf[0][0],cf[0][1],cf[1][0],cf[1][1])\n",
    "    tp = results[3]\n",
    "    fp = results[2]\n",
    "    tn = results[0]\n",
    "    fn = results[1]\n",
    "    tprScalar = float(tp)/(tp+fn)\n",
    "    fprScalar = float(fp)/(fp+tn)\n",
    "    return (tprScalar,fprScalar)"
   ]
  },
  {
   "cell_type": "code",
   "execution_count": 84,
   "metadata": {},
   "outputs": [
    {
     "name": "stdout",
     "output_type": "stream",
     "text": [
      "0.991869918699187\n",
      "0.9758064516129032\n",
      "0.976\n",
      "0.9920634920634921\n",
      "0.96875\n",
      "0.9844961240310077\n",
      "0.9846153846153847\n",
      "0.9847328244274809\n",
      "0.9772727272727273\n",
      "0.9552238805970149\n",
      "0.9851851851851852\n",
      "0.9558823529411765\n",
      "0.9635036496350365\n",
      "0.9782608695652174\n",
      "0.9714285714285714\n",
      "0.9716312056737588\n",
      "0.9859154929577465\n",
      "0.993006993006993\n",
      "0.9861111111111112\n",
      "0.9657534246575342\n",
      "0.9591836734693877\n",
      "0.9527027027027027\n",
      "0.9731543624161074\n",
      "0.9602649006622517\n",
      "0.9671052631578947\n",
      "0.9738562091503268\n",
      "0.9545454545454546\n",
      "0.9741935483870968\n",
      "0.9490445859872612\n",
      "0.9683544303797469\n",
      "0.9622641509433962\n",
      "0.98125\n",
      "0.9627329192546584\n",
      "0.9754601226993865\n",
      "0.9634146341463414\n",
      "0.9454545454545454\n",
      "0.963855421686747\n",
      "0.9640718562874252\n",
      "0.9585798816568047\n",
      "0.9411764705882353\n",
      "0.9590643274853801\n",
      "0.9476744186046512\n",
      "0.9885057471264368\n",
      "0.9771428571428571\n",
      "0.9545454545454546\n",
      "0.9548022598870056\n",
      "0.9382022471910112\n",
      "0.9833333333333333\n",
      "0.9613259668508287\n"
     ]
    }
   ],
   "source": [
    "answerResults = []\n",
    "for i in np.arange(0.01,0.5,0.01):\n",
    "    answerResults.append(makeROC(i,posSamples=posSamples))"
   ]
  },
  {
   "cell_type": "code",
   "execution_count": 85,
   "metadata": {},
   "outputs": [
    {
     "data": {
      "text/plain": [
       "[(0.9917355371900827, 0.0),\n",
       " (0.9917355371900827, 0.6666666666666666),\n",
       " (0.9917355371900827, 0.5),\n",
       " (0.9917355371900827, 0.0),\n",
       " (0.9834710743801653, 0.2857142857142857),\n",
       " (0.9917355371900827, 0.125),\n",
       " (1.0, 0.2222222222222222),\n",
       " (0.9917355371900827, 0.1),\n",
       " (0.9834710743801653, 0.09090909090909091),\n",
       " (0.9752066115702479, 0.23076923076923078),\n",
       " (0.9917355371900827, 0.07142857142857142),\n",
       " (0.9834710743801653, 0.26666666666666666),\n",
       " (0.9752066115702479, 0.125),\n",
       " (0.9917355371900827, 0.11764705882352941),\n",
       " (0.9752066115702479, 0.05263157894736842),\n",
       " (0.9917355371900827, 0.15),\n",
       " (0.9917355371900827, 0.047619047619047616),\n",
       " (1.0, 0.045454545454545456),\n",
       " (0.9917355371900827, 0.043478260869565216),\n",
       " (0.9669421487603306, 0.04),\n",
       " (0.9752066115702479, 0.11538461538461539),\n",
       " (0.9752066115702479, 0.14814814814814814),\n",
       " (0.9834710743801653, 0.07142857142857142),\n",
       " (0.9752066115702479, 0.1),\n",
       " (0.9752066115702479, 0.06451612903225806),\n",
       " (0.9917355371900827, 0.09375),\n",
       " (0.9669421487603306, 0.09090909090909091),\n",
       " (0.9834710743801653, 0.058823529411764705),\n",
       " (0.9669421487603306, 0.1111111111111111),\n",
       " (0.9834710743801653, 0.08108108108108109),\n",
       " (1.0, 0.15789473684210525),\n",
       " (0.9834710743801653, 0.02564102564102564),\n",
       " (0.9834710743801653, 0.1),\n",
       " (0.9834710743801653, 0.047619047619047616),\n",
       " (0.9834710743801653, 0.09302325581395349),\n",
       " (0.9752066115702479, 0.13636363636363635),\n",
       " (0.9752066115702479, 0.06666666666666667),\n",
       " (0.9752066115702479, 0.06521739130434782),\n",
       " (0.9752066115702479, 0.08333333333333333),\n",
       " (0.9586776859504132, 0.10204081632653061),\n",
       " (0.9752066115702479, 0.08),\n",
       " (0.9752066115702479, 0.11764705882352941),\n",
       " (0.9917355371900827, 0.018867924528301886),\n",
       " (0.9834710743801653, 0.037037037037037035),\n",
       " (0.9752066115702479, 0.09090909090909091),\n",
       " (0.9752066115702479, 0.08928571428571429),\n",
       " (0.9669421487603306, 0.12280701754385964),\n",
       " (0.9917355371900827, 0.03389830508474576),\n",
       " (0.9752066115702479, 0.06666666666666667)]"
      ]
     },
     "execution_count": 85,
     "metadata": {},
     "output_type": "execute_result"
    }
   ],
   "source": [
    "answerResults"
   ]
  },
  {
   "cell_type": "code",
   "execution_count": null,
   "metadata": {},
   "outputs": [],
   "source": []
  }
 ],
 "metadata": {
  "kernelspec": {
   "display_name": "Python 3",
   "language": "python",
   "name": "python3"
  },
  "language_info": {
   "codemirror_mode": {
    "name": "ipython",
    "version": 3
   },
   "file_extension": ".py",
   "mimetype": "text/x-python",
   "name": "python",
   "nbconvert_exporter": "python",
   "pygments_lexer": "ipython3",
   "version": "3.6.4"
  }
 },
 "nbformat": 4,
 "nbformat_minor": 2
}

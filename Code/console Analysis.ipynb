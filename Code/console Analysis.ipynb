{
 "cells": [
  {
   "cell_type": "code",
   "execution_count": 1,
   "metadata": {},
   "outputs": [
    {
     "name": "stdout",
     "output_type": "stream",
     "text": [
      "/home/paridhi\r\n"
     ]
    }
   ],
   "source": [
    "!pwd"
   ]
  },
  {
   "cell_type": "code",
   "execution_count": 2,
   "metadata": {},
   "outputs": [
    {
     "name": "stdout",
     "output_type": "stream",
     "text": [
      "ln: failed to create symbolic link ‘psc_data’: File exists\r\n"
     ]
    }
   ],
   "source": [
    "!ln -s /pylon5/sy5p1p/ehanna/logs/hosts psc_data"
   ]
  },
  {
   "cell_type": "code",
   "execution_count": 3,
   "metadata": {},
   "outputs": [
    {
     "name": "stdout",
     "output_type": "stream",
     "text": [
      "Analysis_br002.csv  Analysis_br010.csv     Analysis_r001.csv       \u001b[0m\u001b[01;34mondemand\u001b[0m/\r\n",
      "Analysis_br003.csv  Analysis_br018.csv     Analysis_r002.csv       \u001b[01;36mpsc_data\u001b[0m@\r\n",
      "Analysis_br004.csv  Analysis_br033.csv     console Analysis.ipynb  \u001b[01;34mruntime\u001b[0m/\r\n",
      "Analysis_br005.csv  Analysis_br034.csv     \u001b[01;36mehanna\u001b[0m@                 text\r\n",
      "Analysis_br006.csv  Analysis_r001-752.csv  FILE\r\n"
     ]
    }
   ],
   "source": [
    "ls"
   ]
  },
  {
   "cell_type": "code",
   "execution_count": 4,
   "metadata": {},
   "outputs": [
    {
     "name": "stdout",
     "output_type": "stream",
     "text": [
      "Analysis_br002.csv  Analysis_br010.csv\t   Analysis_r001.csv\t   ondemand\r\n",
      "Analysis_br003.csv  Analysis_br018.csv\t   Analysis_r002.csv\t   psc_data\r\n",
      "Analysis_br004.csv  Analysis_br033.csv\t   console Analysis.ipynb  runtime\r\n",
      "Analysis_br005.csv  Analysis_br034.csv\t   ehanna\t\t   text\r\n",
      "Analysis_br006.csv  Analysis_r001-752.csv  FILE\r\n"
     ]
    }
   ],
   "source": [
    "!ls"
   ]
  },
  {
   "cell_type": "code",
   "execution_count": 5,
   "metadata": {},
   "outputs": [
    {
     "name": "stdout",
     "output_type": "stream",
     "text": [
      "total 26028\r\n",
      "-rw-r--r-- 1 paridhi tr560sp      342 Feb 27 18:06 Analysis_br002.csv\r\n",
      "-rw-r--r-- 1 paridhi tr560sp      419 Feb 27 18:06 Analysis_br003.csv\r\n",
      "-rw-r--r-- 1 paridhi tr560sp    20627 Feb 27 18:16 Analysis_br004.csv\r\n",
      "-rw-r--r-- 1 paridhi tr560sp    35942 Feb 27 18:17 Analysis_br005.csv\r\n",
      "-rw-r--r-- 1 paridhi tr560sp    41754 Feb 27 18:18 Analysis_br006.csv\r\n",
      "-rw-r--r-- 1 paridhi tr560sp    13335 Feb 27 18:18 Analysis_br010.csv\r\n",
      "-rw-r--r-- 1 paridhi tr560sp    26623 Feb 27 18:18 Analysis_br018.csv\r\n",
      "-rw-r--r-- 1 paridhi tr560sp     1655 Feb 27 18:20 Analysis_br033.csv\r\n",
      "-rw-r--r-- 1 paridhi tr560sp      566 Feb 27 18:22 Analysis_br034.csv\r\n",
      "-rw-r--r-- 1 paridhi tr560sp  5645312 Feb 25 22:51 Analysis_r001-752.csv\r\n",
      "-rw-r--r-- 1 paridhi tr560sp     8128 Feb 27 17:05 Analysis_r001.csv\r\n",
      "-rw-r--r-- 1 paridhi tr560sp     6728 Feb 27 17:05 Analysis_r002.csv\r\n",
      "-rw-r--r-- 1 paridhi tr560sp    79620 Feb 27 19:12 console Analysis.ipynb\r\n",
      "lrwxrwxrwx 1 paridhi tr560sp       22 Feb 21 14:27 ehanna -> /pylon5/sy5p1p/ehanna/\r\n",
      "-rw-r--r-- 1 paridhi tr560sp        0 Feb 26 00:40 FILE\r\n",
      "drwxr-xr-x 3 paridhi tr560sp       26 Feb 21 14:23 ondemand\r\n",
      "lrwxrwxrwx 1 paridhi tr560sp       32 Feb 21 14:28 psc_data -> /pylon5/sy5p1p/ehanna/logs/hosts\r\n",
      "drwx------ 2 paridhi tr560sp     4096 Feb 28 09:20 runtime\r\n",
      "-rw-r--r-- 1 paridhi tr560sp 20733477 Feb 24 22:33 text\r\n"
     ]
    }
   ],
   "source": [
    "!ls -l"
   ]
  },
  {
   "cell_type": "code",
   "execution_count": 6,
   "metadata": {
    "collapsed": true
   },
   "outputs": [],
   "source": [
    "file = open('/pylon5/sy5fp1p/ehanna/logs/consoles/r001','r')"
   ]
  },
  {
   "cell_type": "code",
   "execution_count": null,
   "metadata": {
    "collapsed": true
   },
   "outputs": [],
   "source": []
  },
  {
   "cell_type": "code",
   "execution_count": 7,
   "metadata": {
    "collapsed": true
   },
   "outputs": [],
   "source": [
    "text=\"\"\n",
    "for line in file:\n",
    "    text+=line"
   ]
  },
  {
   "cell_type": "code",
   "execution_count": 9,
   "metadata": {},
   "outputs": [],
   "source": [
    "import re\n",
    "import pandas as pd\n",
    "import glob,os\n",
    "import datetime"
   ]
  },
  {
   "cell_type": "code",
   "execution_count": 19,
   "metadata": {},
   "outputs": [],
   "source": [
    "def countFrequency(word,text):\n",
    "    wordLower = word.lower()\n",
    "    textLower = text.lower()\n",
    "    pattern = r\"\\b\"+re.escape(wordLower)+r\"\\b\"\n",
    "    return len(re.findall(pattern,textLower))"
   ]
  },
  {
   "cell_type": "code",
   "execution_count": 10,
   "metadata": {
    "collapsed": true
   },
   "outputs": [],
   "source": [
    "listHotWords = {'Error','timed out','fail','Failed','Stopped','PERM','PERF','INFO','TEMP','UNKN','PEND','failure','fault','Err','BUG','mem_cgroup_oom_synchronize','out of memory','oom-killer','not responding','OK','Lock reclaim failed!'}"
   ]
  },
  {
   "cell_type": "code",
   "execution_count": null,
   "metadata": {},
   "outputs": [],
   "source": [
    "dicHotWords = {'Error':0,'timed out':0,'fail':0,'Failed':0,'Stopped':0,'PERM':0,'PERF':0,'INFO':0,'TEMP':0,'UNKN':0,'PEND':0,'failure':0,'fault':0,'Err':0,'BUG':0,'mem_cgroup_oom_synchronize':0,'out of memory':0,'oom-killer':0,'not responding':0,'OK':0,'Lock reclaim failed!':0}"
   ]
  },
  {
   "cell_type": "code",
   "execution_count": 11,
   "metadata": {},
   "outputs": [],
   "source": [
    "origin= '/pylon5/sy5fp1p/ehanna/logs/hosts/'"
   ]
  },
  {
   "cell_type": "code",
   "execution_count": 11,
   "metadata": {
    "collapsed": true
   },
   "outputs": [],
   "source": [
    "def analyzeComponents(filename,fileNickname):\n",
    "    analysis_components=[]\n",
    "    text = ''\n",
    "    try:\n",
    "        with open(filename,'r') as file:\n",
    "            for line in file:\n",
    "                text += line\n",
    "        start =0\n",
    "#         date_pattern = re.compile(r'\\[-- MARK -- (?:\\w+)\\s(\\w+?)\\s(\\d+?)\\s(\\d+?):(\\d+?):(\\d+)\\s(\\d+?)\\]')\n",
    "#         initial_date_pattern = re.compile(r'\\[-- MARK -- (?:\\w+)\\sOct\\s(\\d+?)\\s(\\d+?):(\\d+?):(\\d+)\\s2017\\]')\n",
    "        match = re.search(initial_date_pattern,text)\n",
    "#         match = re.search(date_pattern,text)    \n",
    "        text = text[match.end():]\n",
    "#         date_pattern = re.compile(r'\\[-- MARK -- (?:\\w+)\\s(\\w+?)\\s(\\d+?)\\s(\\d+?):(\\d+?):(\\d+)\\s(\\d+?)\\]')\n",
    "        while (len(text)>0):\n",
    "            try:\n",
    "                match = re.search(date_pattern,text)\n",
    "                end_index = match.start()\n",
    "                month = match.group(1)\n",
    "                date = match.group(2)\n",
    "                hour = match.group(3)\n",
    "                minute = match.group(4)\n",
    "                sec = match.group(5)\n",
    "                year = match.group(6)\n",
    "                analyseText = text[start:end_index]\n",
    "                tempList = [fileNickname,month,date,hour,minute,sec,year]\n",
    "                hotWordsCount = []\n",
    "                for word in listHotWords:\n",
    "                    count = countFrequency(word,analyseText)\n",
    "                    hotWordsCount.append(count)\n",
    "                if (sum(hotWordsCount)>0):\n",
    "                    for c in hotWordsCount:\n",
    "                        tempList.append(c)\n",
    "                    analysis_components.append(tempList)\n",
    "                start = match.end()\n",
    "                text = text[start:]\n",
    "            except AttributeError as e:\n",
    "                break\n",
    "        analysisDF = pd.DataFrame(analysis_components,columns=['Filename','Month','Date','Hour','Minute','Second','Year','Error Count','TimeOut Count','Fail Count','Failed Count','Stopped Count','PERM Count','PERF Count','INFO count','TEMP count','UNKN count','PEND count','failure count','fault count','Err count','BUG count','mem_cgroup_oom_synchronize count','out of memory count','oom-killer count','not responding count','OK count','Lock reclaim failed! count'])\n",
    "        analysisDF.to_csv(\"Analysis_\"+fileNickname+\".csv\")\n",
    "    except Exception as e:\n",
    "        pass"
   ]
  },
  {
   "cell_type": "code",
   "execution_count": 79,
   "metadata": {
    "collapsed": true
   },
   "outputs": [],
   "source": [
    "for k in range(4,35):\n",
    "    filename = '/pylon5/sy5fp1p/ehanna/logs/consoles/br' +str(k).zfill(3)\n",
    "    fileNickname = 'br' +str(k).zfill(3)\n",
    "    analyzeComponents(filename,fileNickname)"
   ]
  },
  {
   "cell_type": "code",
   "execution_count": 18,
   "metadata": {
    "collapsed": true
   },
   "outputs": [],
   "source": [
    "def combineDataFromFiles(filepathPattern):\n",
    "    analysisDF = pd.DataFrame(columns=['Filename','Month','Date','Hour','Minute','Second','Year','Error Count','TimeOut Count','Fail Count','Failed Count','Stopped Count','PERM Count','PERF Count','INFO count','TEMP count','UNKN count','PEND count','failure count','fault count','Err count','BUG count','mem_cgroup_oom_synchronize count','out of memory count','oom-killer count','not responding count','OK count','Lock reclaim failed! count'])\n",
    "    for filename in glob.glob(filepathPattern):\n",
    "        print(filename)\n",
    "        if filename !=\"Analysis_r001-752.csv\":\n",
    "            tempDF = pd.read_csv(filename)\n",
    "            if (tempDF.columns[0]==\"Unnamed: 0\"):\n",
    "                del tempDF['Unnamed: 0']\n",
    "            analysisDF = analysisDF.append(tempDF)\n",
    "    analysisDF.to_csv(\"Combined_\"+filepathPattern,columns=['Filename','Month','Date','Hour','Minute','Second','Year','Error Count','TimeOut Count','Fail Count','Failed Count','Stopped Count','PERM Count','PERF Count','INFO count','TEMP count','UNKN count','PEND count','failure count','fault count','Err count','BUG count','mem_cgroup_oom_synchronize count','out of memory count','oom-killer count','not responding count','OK count','Lock reclaim failed! count'])"
   ]
  },
  {
   "cell_type": "code",
   "execution_count": 19,
   "metadata": {},
   "outputs": [
    {
     "name": "stdout",
     "output_type": "stream",
     "text": [
      "Analysis_br004.csv\n",
      "Analysis_br005.csv\n",
      "Analysis_br006.csv\n",
      "Analysis_br010.csv\n",
      "Analysis_br018.csv\n",
      "Analysis_br033.csv\n",
      "Analysis_br034.csv\n",
      "Analysis_br002.csv\n",
      "Analysis_br003.csv\n"
     ]
    }
   ],
   "source": [
    "combineDataFromFiles('Analysis_br*.csv')"
   ]
  },
  {
   "cell_type": "code",
   "execution_count": null,
   "metadata": {},
   "outputs": [],
   "source": [
    "pattern = re.compile('(\\d+-\\d+-\\d+)T(\\d+:\\d+:\\d+)-(\\d+:\\d+)\\s(.*?)\\.pvt')"
   ]
  },
  {
   "cell_type": "code",
   "execution_count": 51,
   "metadata": {},
   "outputs": [],
   "source": [
    "def countErrors(startdate,enddate):\n",
    "    analysis_components=[]\n",
    "    startDate = datetime.datetime.strptime(startdate,\"%Y-%m-%d\")\n",
    "    endDate = datetime.datetime.strptime(enddate,\"%Y-%m-%d\")\n",
    "    currentDate = startDate\n",
    "    print(currentDate)\n",
    "    dicHotWords = {'Error':0,'timed out':0,'fail':0,'Failed':0,'Stopped':0,'PERM':0,'PERF':0,'INFO':0,'TEMP':0,'UNKN':0,'PEND':0,'failure':0,'fault':0,'Err':0,'BUG':0,'mem_cgroup_oom_synchronize':0,'out of memory':0,'oom-killer':0,'not responding':0,'OK':0,'Lock reclaim failed!':0}\n",
    "    while (currentDate<endDate):\n",
    "        counter=0\n",
    "        for direc in os.listdir(origin):\n",
    "            if (direc.startswith('br') or direc.startswith('r')) and direc.endswith('.pvt.bridges.psc.edu'):\n",
    "                fileName = currentDate.strftime(\"%Y-%m-%d\")+'-'+direc+'.log'\n",
    "                if fileName in os.listdir(origin+direc+'/'):\n",
    "                    try:\n",
    "                        with open(origin+direc+'/'+fileName) as file:\n",
    "                            counter+=1\n",
    "#                             print(counter)\n",
    "                            data=file.read().replace('\\n', '')\n",
    "                            for word in dicHotWords.keys():\n",
    "                                count = countFrequency(word,data)\n",
    "                                dicHotWords[word]+=count\n",
    "                    except Exception as e:\n",
    "                        print(e)\n",
    "                        pass\n",
    "        currentDate = currentDate+datetime.timedelta(days=1)\n",
    "    if (sum(dicHotWords.values())>0):\n",
    "        analysisDF = pd.DataFrame(dicHotWords,index=[0])\n",
    "        analysisDF.to_csv(\"Analysis_\"+startdate+\"_\"+enddate+\".csv\")\n",
    "    return analysisDF"
   ]
  },
  {
   "cell_type": "code",
   "execution_count": null,
   "metadata": {},
   "outputs": [
    {
     "name": "stdout",
     "output_type": "stream",
     "text": [
      "2018-02-01 00:00:00\n"
     ]
    }
   ],
   "source": [
    "df = countErrors(\"2018-02-01\",\"2018-02-28\")"
   ]
  },
  {
   "cell_type": "code",
   "execution_count": 49,
   "metadata": {},
   "outputs": [
    {
     "data": {
      "text/html": [
       "<div>\n",
       "<style scoped>\n",
       "    .dataframe tbody tr th:only-of-type {\n",
       "        vertical-align: middle;\n",
       "    }\n",
       "\n",
       "    .dataframe tbody tr th {\n",
       "        vertical-align: top;\n",
       "    }\n",
       "\n",
       "    .dataframe thead th {\n",
       "        text-align: right;\n",
       "    }\n",
       "</style>\n",
       "<table border=\"1\" class=\"dataframe\">\n",
       "  <thead>\n",
       "    <tr style=\"text-align: right;\">\n",
       "      <th></th>\n",
       "      <th>BUG</th>\n",
       "      <th>Err</th>\n",
       "      <th>Error</th>\n",
       "      <th>Failed</th>\n",
       "      <th>INFO</th>\n",
       "      <th>Lock reclaim failed!</th>\n",
       "      <th>OK</th>\n",
       "      <th>PEND</th>\n",
       "      <th>PERF</th>\n",
       "      <th>PERM</th>\n",
       "      <th>...</th>\n",
       "      <th>TEMP</th>\n",
       "      <th>UNKN</th>\n",
       "      <th>fail</th>\n",
       "      <th>failure</th>\n",
       "      <th>fault</th>\n",
       "      <th>mem_cgroup_oom_synchronize</th>\n",
       "      <th>not responding</th>\n",
       "      <th>oom-killer</th>\n",
       "      <th>out of memory</th>\n",
       "      <th>timed out</th>\n",
       "    </tr>\n",
       "  </thead>\n",
       "  <tbody>\n",
       "    <tr>\n",
       "      <th>0</th>\n",
       "      <td>0</td>\n",
       "      <td>17</td>\n",
       "      <td>416</td>\n",
       "      <td>652</td>\n",
       "      <td>5</td>\n",
       "      <td>0</td>\n",
       "      <td>104</td>\n",
       "      <td>0</td>\n",
       "      <td>6</td>\n",
       "      <td>0</td>\n",
       "      <td>...</td>\n",
       "      <td>0</td>\n",
       "      <td>0</td>\n",
       "      <td>0</td>\n",
       "      <td>333</td>\n",
       "      <td>0</td>\n",
       "      <td>0</td>\n",
       "      <td>161</td>\n",
       "      <td>0</td>\n",
       "      <td>0</td>\n",
       "      <td>234</td>\n",
       "    </tr>\n",
       "  </tbody>\n",
       "</table>\n",
       "<p>1 rows × 21 columns</p>\n",
       "</div>"
      ],
      "text/plain": [
       "   BUG  Err  Error  Failed  INFO  Lock reclaim failed!   OK  PEND  PERF  PERM  \\\n",
       "0    0   17    416     652     5                     0  104     0     6     0   \n",
       "\n",
       "     ...      TEMP  UNKN  fail  failure  fault  mem_cgroup_oom_synchronize  \\\n",
       "0    ...         0     0     0      333      0                           0   \n",
       "\n",
       "   not responding  oom-killer  out of memory  timed out  \n",
       "0             161           0              0        234  \n",
       "\n",
       "[1 rows x 21 columns]"
      ]
     },
     "execution_count": 49,
     "metadata": {},
     "output_type": "execute_result"
    }
   ],
   "source": [
    "df"
   ]
  },
  {
   "cell_type": "code",
   "execution_count": null,
   "metadata": {},
   "outputs": [],
   "source": []
  }
 ],
 "metadata": {
  "kernelspec": {
   "display_name": "Python 3",
   "language": "python",
   "name": "python3"
  },
  "language_info": {
   "codemirror_mode": {
    "name": "ipython",
    "version": 3
   },
   "file_extension": ".py",
   "mimetype": "text/x-python",
   "name": "python",
   "nbconvert_exporter": "python",
   "pygments_lexer": "ipython3",
   "version": "3.6.4"
  }
 },
 "nbformat": 4,
 "nbformat_minor": 2
}
